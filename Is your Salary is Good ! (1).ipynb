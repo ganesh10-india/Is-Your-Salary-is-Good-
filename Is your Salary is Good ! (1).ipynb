{
 "cells": [
  {
   "cell_type": "markdown",
   "metadata": {},
   "source": [
    "# Web Scraping for Indeed.com and Predicting Salaries\n",
    "In this project, we will practice two major skills: collecting data by scraping a website and then building a binary predictor with Logistic Regression.\n",
    "\n",
    "We are going to collect salary information on data science jobs in a variety of markets. Then using the location, title and summary of the job we will attempt to predict the salary of the job. For job posting sites, this would be extraordinarily useful. While most listings DO NOT come with salary information (as you will see in this exercise), being able to extrapolate or predict the expected salaries from other listings can help guide negotiations.\n",
    "\n",
    "Normally, we could use regression for this task; however, we will convert this problem into classification and use Logistic Regression or any other suitable classifier.\n",
    "\n",
    "- Question: Why would we want this to be a classification problem?\n",
    "- Answer: While more precision may be better, there is a fair amount of natural variance in job salaries - predicting a range may be useful.\n",
    "Therefore, the first part of the assignment will be focused on scraping Indeed.com. In the second, we'll focus on using listings with salary information to build a model and predict additional salaries.\n",
    "\n",
    "### Scraping job listings from Indeed.com\n",
    "We will be scraping job listings from Indeed.com using BeautifulSoup. Luckily, Indeed.com is a simple text page where we can easily find relevant entries.\n",
    "\n",
    "First, look at the source of an Indeed.com page: (http://www.indeed.com/jobs?q=data+scientist+%2420%2C000&l=New+York&start=10\").\n",
    "\n",
    "Notice, each job listing is underneath a div tag with a class name of result. We can use BeautifulSoup to extract those.\n",
    "\n",
    "**Setup a request (using requests) to the URL below. Use BeautifulSoup to parse the page and extract all results (HINT: Look for div tags with class name result)**\n",
    "The URL here has many query parameters:\n",
    "\n",
    "- q for the job search\n",
    "- This is followed by \"+20,000\" to return results with salaries (or expected salaries >$20,000)\n",
    "- l for a location\n",
    "- start for what result number to start on"
   ]
  },
  {
   "cell_type": "code",
   "execution_count": 1,
   "metadata": {},
   "outputs": [],
   "source": [
    "URL = \"http://www.indeed.com/jobs?q=data+scientist+%2420%2C000&l=New+York&start=10\"\n"
   ]
  },
  {
   "cell_type": "code",
   "execution_count": 2,
   "metadata": {},
   "outputs": [],
   "source": [
    "#Importing Dependencies\n",
    "import requests\n",
    "import bs4\n",
    "from bs4 import BeautifulSoup\n",
    "import numpy as np\n",
    "import pandas as pd\n",
    "import csv\n",
    "\n",
    "#Importing Sci-kit + Stats Models Dependencies\n",
    "from sklearn.model_selection import train_test_split\n",
    "from sklearn.model_selection import StratifiedKFold, cross_val_score\n",
    "\n",
    "#Models\n",
    "from sklearn.linear_model import LogisticRegression, LogisticRegressionCV\n",
    "from sklearn.neighbors import KNeighborsClassifier\n",
    "from sklearn.tree import DecisionTreeClassifier\n",
    "from sklearn.svm import SVC\n",
    "from sklearn.ensemble import RandomForestClassifier, ExtraTreesClassifier\n",
    "from sklearn.naive_bayes import MultinomialNB, ComplementNB\n",
    "\n",
    "#GridSearch\n",
    "from sklearn.model_selection import GridSearchCV\n",
    "\n",
    "#Pre-processing\n",
    "from sklearn.preprocessing import StandardScaler\n",
    "\n",
    "#Scipy Integration for Sparse Matrixes\n",
    "from scipy import sparse\n",
    "\n",
    "#Plotting & Visualisation Metrics\n",
    "from matplotlib import pyplot as plt\n",
    "import seaborn as sns\n",
    "\n",
    "#Scoring & Evaluation Metrics\n",
    "from sklearn.metrics import confusion_matrix, accuracy_score, classification_report, precision_score, f1_score\n",
    "from sklearn.metrics import roc_curve, auc, precision_recall_curve, average_precision_score\n"
   ]
  },
  {
   "cell_type": "code",
   "execution_count": 3,
   "metadata": {},
   "outputs": [],
   "source": [
    "# How to operate a HTTP requests object.\n",
    "\n",
    "base_url = \"http://www.indeed.com/jobs?q=data+scientist+%2420%2C000&l=New+York&start=10\"\n",
    "\n",
    "req = requests.get(base_url)\n",
    "soup = BeautifulSoup(req.text, 'html.parser')\n",
    "results = []\n",
    "\n",
    "for item in soup.find_all('div', class_='jobsearch-SerpJobCard'):\n",
    "    results.append(item)"
   ]
  },
  {
   "cell_type": "markdown",
   "metadata": {},
   "source": [
    "Let's look at one result more closely. A single result looks like\n",
    "- The salary is available in a nobr element inside of a td element with class='snip'.\n",
    "- The title of a job is in a link with class set to jobtitle and a data-tn-element='jobTitle'.\n",
    "- The location is set in a span with class='location'.\n",
    "- The company is set in a span with class='company'."
   ]
  },
  {
   "cell_type": "code",
   "execution_count": 4,
   "metadata": {},
   "outputs": [],
   "source": [
    "def extract_salaries(soup, np=np):\n",
    "    salaries = []\n",
    "    for item in soup.find_all('div', class_='jobsearch-SerpJobCard'):\n",
    "        if item.find('span', class_='salary') is not None:\n",
    "            try:\n",
    "                salaries.append(item.find('span', class_='salary').getText().strip().replace('\\n', ''))\n",
    "            except:\n",
    "                salaries.append(np.nan)\n",
    "        else:\n",
    "            pass\n",
    "    return salaries"
   ]
  },
  {
   "cell_type": "code",
   "execution_count": 5,
   "metadata": {},
   "outputs": [],
   "source": [
    "def extract_titles(soup, np=np):\n",
    "    titles = []\n",
    "    for item in soup.find_all('div', class_='jobsearch-SerpJobCard'):\n",
    "        if item.find('span', class_='salary') is not None:\n",
    "            try:\n",
    "                titles.append(item.find('div', class_='title').getText().strip())\n",
    "            except:\n",
    "                titles.append(np.nan)\n",
    "        else:\n",
    "            pass\n",
    "    return titles"
   ]
  },
  {
   "cell_type": "code",
   "execution_count": 6,
   "metadata": {},
   "outputs": [],
   "source": [
    "def extract_locations(soup, np=np):\n",
    "    locations = []\n",
    "    for item in soup.find_all('div', class_='jobsearch-SerpJobCard'):\n",
    "        if item.find('span', class_='salary') is not None:\n",
    "            try:\n",
    "                locations.append(item.find('span', class_='location').getText().replace('\\n','').strip())\n",
    "            except:\n",
    "                locations.append(np.nan)\n",
    "        else:\n",
    "            pass\n",
    "    return locations"
   ]
  },
  {
   "cell_type": "code",
   "execution_count": 7,
   "metadata": {},
   "outputs": [],
   "source": [
    "def extract_companies(soup, np=np):\n",
    "    companies = []\n",
    "    for item in soup.find_all('div', class_='jobsearch-SerpJobCard'):\n",
    "        if item.find('span', class_='salary') is not None:\n",
    "            try:\n",
    "                companies.append(item.find('span', class_='company').getText().replace('\\n','').strip())\n",
    "            except:\n",
    "                companies.append(np.nan)\n",
    "        else:\n",
    "            pass\n",
    "    return companies"
   ]
  },
  {
   "cell_type": "code",
   "execution_count": 8,
   "metadata": {},
   "outputs": [],
   "source": [
    "## 🔥🚀 #Let's scrape the companies ratings (the maximum width is 60px so we can use this as 100%) 🔥🚀\n",
    "\n",
    "def extract_ratings(soup, np=np):\n",
    "    import re\n",
    "    ratings = []\n",
    "    for item in soup.find_all('div', class_='jobsearch-SerpJobCard'):\n",
    "        if item.find('span', class_='salary') is not None:\n",
    "            try:\n",
    "                width = item.find('span',class_='rating').attrs['style']\n",
    "                rating = float(findall(':([^p]+)', width)[0])\n",
    "                ratings.append((round(((rating / 60) * 100))))\n",
    "            except:\n",
    "                ratings.append(np.nan)\n",
    "        else:\n",
    "            pass\n",
    "    return ratings\n"
   ]
  },
  {
   "cell_type": "code",
   "execution_count": 9,
   "metadata": {},
   "outputs": [],
   "source": [
    "# Let's extract all of the delightful ahref <a> links for the individual job listings.\n",
    "\n",
    "def extract_links(soup, np=np):\n",
    "    urls = []\n",
    "    for item in soup.find_all('div', class_='result'):\n",
    "        if item.find('span', class_='salary') is not None:\n",
    "            try:\n",
    "                urls.append('https://www.indeed.com' + item.find('a').attrs['href'])\n",
    "            except:\n",
    "                urls.append(np.nan)\n",
    "        else:\n",
    "            pass\n",
    "    return urls\n"
   ]
  },
  {
   "cell_type": "markdown",
   "metadata": {},
   "source": [
    "Now, to scale up our scraping, we need to accumulate more results. We can do this by examining the URL above.\n",
    "\n",
    "\"http://www.indeed.com/jobs?q=data+scientist+%2420%2C000&l=New+York&start=10\"\n",
    "There are two query parameters here we can alter to collect more results, the l=New+York and the start=10. The first controls the location of the results (so we can try a different city). The second controls where in the results to start and gives 10 results (thus, we can keep incrementing by 10 to go further in the list).\n",
    "\n",
    "**Complete the following code to collect results from multiple cities and starting points.**\n",
    "- Enter your city below to add it to the search.\n",
    "- Remember to convert your salary to U.S. Dollars to match the other cities if the currency is different."
   ]
  },
  {
   "cell_type": "code",
   "execution_count": 10,
   "metadata": {},
   "outputs": [],
   "source": [
    "from IPython.display import clear_output"
   ]
  },
  {
   "cell_type": "code",
   "execution_count": 11,
   "metadata": {},
   "outputs": [],
   "source": [
    "YOUR_CITY = 'London'\n"
   ]
  },
  {
   "cell_type": "code",
   "execution_count": 12,
   "metadata": {},
   "outputs": [],
   "source": [
    "city_list = ['New+York', 'Chicago', 'San+Francisco', 'Austin', 'Seattle', \n",
    "    'Los+Angeles', 'Philadelphia', 'Atlanta', 'Dallas', 'Pittsburgh', \n",
    "    'Portland', 'Phoenix', 'Denver', 'Houston', 'Miami', YOUR_CITY]"
   ]
  },
  {
   "cell_type": "code",
   "execution_count": 13,
   "metadata": {},
   "outputs": [
    {
     "data": {
      "text/plain": [
       "16"
      ]
     },
     "execution_count": 13,
     "metadata": {},
     "output_type": "execute_result"
    }
   ],
   "source": [
    "len(city_list)\n"
   ]
  },
  {
   "cell_type": "code",
   "execution_count": 14,
   "metadata": {},
   "outputs": [
    {
     "name": "stdout",
     "output_type": "stream",
     "text": [
      "Portland 1500\n"
     ]
    }
   ],
   "source": [
    "url_template = \"http://www.indeed.com/jobs?q=data+scientist+%2420%2C000&l={}&start={}\"\n",
    "max_results_per_city = 150 # Set this to a high-value (5000) to generate more results. \n",
    "# Crawling more results, will also take much longer. First test your code on a small number of results and then expand.\n",
    "\n",
    "results = {\n",
    "     'Salaries($)': [],\n",
    "     'Titles': [],\n",
    "     'Locations': [],\n",
    "     'Companies': [],\n",
    "     'Ratings': [],\n",
    "     'URL_Listings': []\n",
    " }\n",
    "\n",
    "\n",
    "with open('test.csv', 'a') as f:\n",
    "    w = csv.writer(f)\n",
    "    for city in set(['New+York', 'Chicago', 'San+Francisco', 'Austin', 'Seattle', \n",
    "        'Los+Angeles', 'Philadelphia', 'Atlanta', 'Dallas', 'Pittsburgh', \n",
    "        'Portland', 'Phoenix', 'Denver', 'Houston', 'Miami', YOUR_CITY]):\n",
    "\n",
    "        page_index = 0\n",
    "\n",
    "        for start in range(0, max_results_per_city):\n",
    "            \n",
    "            clear_output(wait=True)\n",
    "            # Let's Create An Index For The URL's.\n",
    "            page_index += 10\n",
    "\n",
    "            # Let's Make The URL Dynamnic Via Formatting.\n",
    "            user_agent = {'User-agent': 'Mozilla/5.0'}\n",
    "            dynamic_url = url_template.format(city, page_index)\n",
    "            req = requests.get(dynamic_url)\n",
    "            soup = BeautifulSoup(req.text, 'html.parser')\n",
    "\n",
    "            # Appending The Results To A Dictionary!\n",
    "            results['Salaries($)'].extend(extract_salaries(soup))\n",
    "            results['Titles'].extend(extract_titles(soup))\n",
    "            results['Locations'].extend(extract_locations(soup))\n",
    "            results['Companies'].extend(extract_companies(soup))\n",
    "            results['Ratings'].extend(extract_ratings(soup))\n",
    "            results['URL_Listings'].extend(extract_links(soup))\n",
    "            \n",
    "            \n",
    "            #This method allows us to save intermediate results for web scraping via a CSV writerows Append.\n",
    "            data = [list(item) for item in list(zip(extract_salaries(soup),extract_titles(soup)\n",
    "                                                    ,extract_locations(soup), extract_companies(soup),\n",
    "                                                    extract_companies(soup), extract_ratings(soup), \n",
    "                                                    extract_links(soup)))]\n",
    "            w.writerows(data)\n",
    "            print(city, page_index)"
   ]
  },
  {
   "cell_type": "markdown",
   "metadata": {},
   "source": [
    "\n",
    "**Use the functions you wrote above to parse out the 4 fields - location, title, company and salary. Create a dataframe from the results with those 4 columns.**"
   ]
  },
  {
   "cell_type": "code",
   "execution_count": 15,
   "metadata": {},
   "outputs": [],
   "source": [
    "# To avoid Pandas truncating our Listing_URL columns, let's increase the max_colwidth.\n",
    "pd.set_option(\"display.max_colwidth\", 10000)\n",
    "df = pd.DataFrame(results, columns = list(results.keys()))"
   ]
  },
  {
   "cell_type": "markdown",
   "metadata": {},
   "source": [
    "Lastly, we need to clean up salary data.\n",
    "\n",
    "- Only a small number of the scraped results have salary information - only these will be used for modeling.\n",
    "- Some of the salaries are not yearly but hourly or weekly, these will not be useful to us for now.\n",
    "- Some of the entries may be duplicated.\n",
    "- The salaries are given as text and usually with ranges."
   ]
  },
  {
   "cell_type": "code",
   "execution_count": 16,
   "metadata": {},
   "outputs": [
    {
     "data": {
      "text/html": [
       "<div>\n",
       "<style scoped>\n",
       "    .dataframe tbody tr th:only-of-type {\n",
       "        vertical-align: middle;\n",
       "    }\n",
       "\n",
       "    .dataframe tbody tr th {\n",
       "        vertical-align: top;\n",
       "    }\n",
       "\n",
       "    .dataframe thead th {\n",
       "        text-align: right;\n",
       "    }\n",
       "</style>\n",
       "<table border=\"1\" class=\"dataframe\">\n",
       "  <thead>\n",
       "    <tr style=\"text-align: right;\">\n",
       "      <th></th>\n",
       "      <th>Salaries($)</th>\n",
       "      <th>Titles</th>\n",
       "      <th>Locations</th>\n",
       "      <th>Companies</th>\n",
       "      <th>Ratings</th>\n",
       "      <th>URL_Listings</th>\n",
       "    </tr>\n",
       "  </thead>\n",
       "  <tbody>\n",
       "    <tr>\n",
       "      <th>0</th>\n",
       "      <td>From $70,000 a year</td>\n",
       "      <td>NaN</td>\n",
       "      <td>Columbus, OH</td>\n",
       "      <td>Smart Health Integrated</td>\n",
       "      <td>NaN</td>\n",
       "      <td>https://www.indeed.com/company/Smart-Health-Integrated/jobs/Machine-Learning-Engineer-dff37119f53a6a95?fccid=ba0a313825c4a492&amp;vjs=3</td>\n",
       "    </tr>\n",
       "    <tr>\n",
       "      <th>1</th>\n",
       "      <td>From $70,000 a year</td>\n",
       "      <td>NaN</td>\n",
       "      <td>Columbus, OH</td>\n",
       "      <td>Smart Health Integrated</td>\n",
       "      <td>NaN</td>\n",
       "      <td>https://www.indeed.com/company/Smart-Health-Integrated/jobs/Machine-Learning-Engineer-dff37119f53a6a95?fccid=ba0a313825c4a492&amp;vjs=3</td>\n",
       "    </tr>\n",
       "    <tr>\n",
       "      <th>2</th>\n",
       "      <td>From $70,000 a year</td>\n",
       "      <td>NaN</td>\n",
       "      <td>Columbus, OH</td>\n",
       "      <td>Smart Health Integrated</td>\n",
       "      <td>NaN</td>\n",
       "      <td>https://www.indeed.com/company/Smart-Health-Integrated/jobs/Machine-Learning-Engineer-dff37119f53a6a95?fccid=ba0a313825c4a492&amp;vjs=3</td>\n",
       "    </tr>\n",
       "    <tr>\n",
       "      <th>3</th>\n",
       "      <td>From $70,000 a year</td>\n",
       "      <td>NaN</td>\n",
       "      <td>Columbus, OH</td>\n",
       "      <td>Smart Health Integrated</td>\n",
       "      <td>NaN</td>\n",
       "      <td>https://www.indeed.com/company/Smart-Health-Integrated/jobs/Machine-Learning-Engineer-dff37119f53a6a95?fccid=ba0a313825c4a492&amp;vjs=3</td>\n",
       "    </tr>\n",
       "    <tr>\n",
       "      <th>4</th>\n",
       "      <td>From $70,000 a year</td>\n",
       "      <td>NaN</td>\n",
       "      <td>Columbus, OH</td>\n",
       "      <td>Smart Health Integrated</td>\n",
       "      <td>NaN</td>\n",
       "      <td>https://www.indeed.com/company/Smart-Health-Integrated/jobs/Machine-Learning-Engineer-dff37119f53a6a95?fccid=ba0a313825c4a492&amp;vjs=3</td>\n",
       "    </tr>\n",
       "  </tbody>\n",
       "</table>\n",
       "</div>"
      ],
      "text/plain": [
       "           Salaries($)  Titles     Locations                Companies  \\\n",
       "0  From $70,000 a year     NaN  Columbus, OH  Smart Health Integrated   \n",
       "1  From $70,000 a year     NaN  Columbus, OH  Smart Health Integrated   \n",
       "2  From $70,000 a year     NaN  Columbus, OH  Smart Health Integrated   \n",
       "3  From $70,000 a year     NaN  Columbus, OH  Smart Health Integrated   \n",
       "4  From $70,000 a year     NaN  Columbus, OH  Smart Health Integrated   \n",
       "\n",
       "   Ratings  \\\n",
       "0      NaN   \n",
       "1      NaN   \n",
       "2      NaN   \n",
       "3      NaN   \n",
       "4      NaN   \n",
       "\n",
       "                                                                                                                          URL_Listings  \n",
       "0  https://www.indeed.com/company/Smart-Health-Integrated/jobs/Machine-Learning-Engineer-dff37119f53a6a95?fccid=ba0a313825c4a492&vjs=3  \n",
       "1  https://www.indeed.com/company/Smart-Health-Integrated/jobs/Machine-Learning-Engineer-dff37119f53a6a95?fccid=ba0a313825c4a492&vjs=3  \n",
       "2  https://www.indeed.com/company/Smart-Health-Integrated/jobs/Machine-Learning-Engineer-dff37119f53a6a95?fccid=ba0a313825c4a492&vjs=3  \n",
       "3  https://www.indeed.com/company/Smart-Health-Integrated/jobs/Machine-Learning-Engineer-dff37119f53a6a95?fccid=ba0a313825c4a492&vjs=3  \n",
       "4  https://www.indeed.com/company/Smart-Health-Integrated/jobs/Machine-Learning-Engineer-dff37119f53a6a95?fccid=ba0a313825c4a492&vjs=3  "
      ]
     },
     "execution_count": 16,
     "metadata": {},
     "output_type": "execute_result"
    }
   ],
   "source": [
    "df.head()"
   ]
  },
  {
   "cell_type": "markdown",
   "metadata": {},
   "source": [
    "**Write a function that takes a salary string and converts it to a number, averaging a salary range if necessary.**"
   ]
  },
  {
   "cell_type": "code",
   "execution_count": 18,
   "metadata": {},
   "outputs": [],
   "source": [
    "#Solving the string manipulation problem with Regex and an IF statement for months vs years.\n",
    "\n",
    "def convert_digits(a):\n",
    "    import re\n",
    "\n",
    "    #If there is a month in the string.\n",
    "    digits = []\n",
    "    if 'month' in a:\n",
    "        for x in a.split():\n",
    "                x_ = x.replace(',','')\n",
    "                x_ = re.sub('[$,£]', '', x_)\n",
    "                if x_.isdigit():\n",
    "                    year_figure = (int(x_) * 12)\n",
    "                    digits.append(year_figure)\n",
    "\n",
    "        if len(digits) == 1:\n",
    "            return digits[0]\n",
    "\n",
    "        else:\n",
    "            return sum(digits) / len(digits)\n",
    "\n",
    "    #If there is no month in the string.\n",
    "\n",
    "    else:\n",
    "        for x in a.split():\n",
    "            x_ = x.replace(',','')\n",
    "            x_ = re.sub('[$,£]', '', x_)\n",
    "            if x_.isdigit():\n",
    "                digits.append(int(x_))\n",
    "\n",
    "        if len(digits) == 1:\n",
    "            return digits[0]\n",
    "\n",
    "        else:\n",
    "            return sum(digits) / len(digits)"
   ]
  },
  {
   "cell_type": "code",
   "execution_count": 19,
   "metadata": {},
   "outputs": [],
   "source": [
    "### Data Cleaning ### - After scraping data for several days, now we can remove any of the duplicates.\n",
    "\n",
    "# Let's apply our formula to extract all of the rows.\n",
    "df['Salaries($)'] = df['Salaries($)'].apply(convert_digits)\n",
    "df = pd.DataFrame.drop_duplicates(df)\n",
    "# Let's clean up the locations column.\n",
    "\n",
    "def locations(a):\n",
    "    import re\n",
    "    result = re.sub(r\"[0-9]\", \"\", str(a))\n",
    "    return re.sub(r'\\([^)]*\\)', '', result)\n",
    "\n",
    "df['Locations'] = df['Locations'].apply(locations)"
   ]
  },
  {
   "cell_type": "markdown",
   "metadata": {},
   "source": [
    "**The Code Below Allows Us To Append To Our Existing CSV Data From Multiple Scrapes**"
   ]
  },
  {
   "cell_type": "code",
   "execution_count": 29,
   "metadata": {},
   "outputs": [],
   "source": [
    "export_csv = df.to_csv('exported_dataframe.csv', index= None, header=True)"
   ]
  },
  {
   "cell_type": "markdown",
   "metadata": {},
   "source": [
    "# QUESTION 2: Factors that distinguish job category\n",
    "Using the job postings you scraped for part 1 (or potentially new job postings from a second round of scraping), identify features in the data related to job postings that can distinguish job titles from each other. There are a variety of interesting ways you can frame the target variable, for example:\n",
    "\n",
    "- What components of a job posting distinguish data scientists from other data jobs?\n",
    "- What features are important for distinguishing junior vs. senior positions?\n",
    "- Do the requirements for titles vary significantly with industry (e.g. healthcare vs. government)?\n",
    "\n",
    "You may end up making multiple classification models to tackle different questions. Be sure to clearly explain your hypotheses and framing, any feature engineering, and what your target variables are. The type of classification model you choose is up to you. Be sure to interpret your results and evaluate your model's performance.\n",
    "\n",
    "**Load in the the data of scraped salaries**"
   ]
  },
  {
   "cell_type": "code",
   "execution_count": 32,
   "metadata": {},
   "outputs": [],
   "source": [
    "cleaned_df = pd.read_csv(\"exported_dataframes.csv\")"
   ]
  },
  {
   "cell_type": "code",
   "execution_count": 33,
   "metadata": {},
   "outputs": [
    {
     "data": {
      "text/plain": [
       "544"
      ]
     },
     "execution_count": 33,
     "metadata": {},
     "output_type": "execute_result"
    }
   ],
   "source": [
    "len(cleaned_df)\n"
   ]
  },
  {
   "cell_type": "code",
   "execution_count": 34,
   "metadata": {},
   "outputs": [],
   "source": [
    "#Let's Remove Any Salaries That Are Lower Than $15,000\n",
    "\n",
    "cleaned_df = cleaned_df[cleaned_df['Salaries($)'] > 15000]"
   ]
  },
  {
   "cell_type": "markdown",
   "metadata": {},
   "source": [
    "**We want to predict a binary variable - whether the salary was low or high. Compute the median salary and create a new binary variable that is true when the salary is high (above the median).**\n",
    "We could also perform Linear Regression (or any regression) to predict the salary value here. Instead, we are going to convert this into a binary classification problem, by predicting two classes, HIGH vs LOW salary.\n",
    "\n",
    "While performing regression may be better, performing classification may help remove some of the noise of the extreme salaries. We don't have to choose the median as the splitting point - we could also split on the 75th percentile or any other reasonable breaking point.\n",
    "\n",
    "In fact, the ideal scenario may be to predict many levels of salaries."
   ]
  },
  {
   "cell_type": "code",
   "execution_count": 35,
   "metadata": {},
   "outputs": [
    {
     "name": "stdout",
     "output_type": "stream",
     "text": [
      "101515.5\n"
     ]
    }
   ],
   "source": [
    "# Calculating The Median.\n",
    "\n",
    "median = cleaned_df['Salaries($)'].median()\n",
    "print(median)"
   ]
  },
  {
   "cell_type": "code",
   "execution_count": 36,
   "metadata": {},
   "outputs": [],
   "source": [
    "def salary_class (x, median=median):\n",
    "    if x > median:\n",
    "        return 'HIGH SALARY'\n",
    "    else:\n",
    "        return 'LOW SALARY'"
   ]
  },
  {
   "cell_type": "code",
   "execution_count": 37,
   "metadata": {},
   "outputs": [],
   "source": [
    "cleaned_df['Salary_Class'] = cleaned_df['Salaries($)'].apply(salary_class)\n"
   ]
  },
  {
   "cell_type": "markdown",
   "metadata": {},
   "source": [
    "**Thought experiment: What is the baseline accuracy for this model?**\n"
   ]
  },
  {
   "cell_type": "code",
   "execution_count": 38,
   "metadata": {},
   "outputs": [
    {
     "data": {
      "text/plain": [
       "LOW SALARY     266\n",
       "HIGH SALARY    265\n",
       "Name: Salary_Class, dtype: int64"
      ]
     },
     "execution_count": 38,
     "metadata": {},
     "output_type": "execute_result"
    }
   ],
   "source": [
    "## The Baseline Accuracy Will Be The Most Frequent Class Within The Distribution\n",
    "\n",
    "cleaned_df['Salary_Class'].value_counts()"
   ]
  },
  {
   "cell_type": "code",
   "execution_count": 39,
   "metadata": {},
   "outputs": [
    {
     "data": {
      "text/plain": [
       "50.09"
      ]
     },
     "execution_count": 39,
     "metadata": {},
     "output_type": "execute_result"
    }
   ],
   "source": [
    "# Therefore Our Baseline Accuracy Is 50.09%.\n",
    "\n",
    "round((cleaned_df[(cleaned_df['Salary_Class'] == 'LOW SALARY')].shape[0] / cleaned_df.shape[0]) * 100, 2)"
   ]
  },
  {
   "cell_type": "code",
   "execution_count": 40,
   "metadata": {},
   "outputs": [],
   "source": [
    "# Let's Remove All Of Entries That Don't Have Ratings\n",
    "\n",
    "cleaned_df = cleaned_df[cleaned_df['Ratings'].notnull()]"
   ]
  },
  {
   "cell_type": "code",
   "execution_count": 41,
   "metadata": {},
   "outputs": [],
   "source": [
    "#Feature Engineering \n",
    "\n",
    "#1. Creating The States.\n",
    "cleaned_df['State'] = cleaned_df['Locations'].apply(lambda x: str(x).split()[-1])\n",
    "\n",
    "#2. Separating Out The Location From State.\n",
    "cleaned_df['Locations'] = cleaned_df['Locations'].apply(lambda x: (str(\" \".join(str(x).split()[:-1])).replace(',','')))"
   ]
  },
  {
   "cell_type": "code",
   "execution_count": 42,
   "metadata": {},
   "outputs": [
    {
     "data": {
      "text/html": [
       "<div>\n",
       "<style scoped>\n",
       "    .dataframe tbody tr th:only-of-type {\n",
       "        vertical-align: middle;\n",
       "    }\n",
       "\n",
       "    .dataframe tbody tr th {\n",
       "        vertical-align: top;\n",
       "    }\n",
       "\n",
       "    .dataframe thead th {\n",
       "        text-align: right;\n",
       "    }\n",
       "</style>\n",
       "<table border=\"1\" class=\"dataframe\">\n",
       "  <thead>\n",
       "    <tr style=\"text-align: right;\">\n",
       "      <th></th>\n",
       "      <th>Salaries($)</th>\n",
       "      <th>Ratings</th>\n",
       "    </tr>\n",
       "  </thead>\n",
       "  <tbody>\n",
       "    <tr>\n",
       "      <th>count</th>\n",
       "      <td>281.000000</td>\n",
       "      <td>281.000000</td>\n",
       "    </tr>\n",
       "    <tr>\n",
       "      <th>mean</th>\n",
       "      <td>99034.782918</td>\n",
       "      <td>80.135231</td>\n",
       "    </tr>\n",
       "    <tr>\n",
       "      <th>std</th>\n",
       "      <td>42913.952169</td>\n",
       "      <td>11.368952</td>\n",
       "    </tr>\n",
       "    <tr>\n",
       "      <th>min</th>\n",
       "      <td>26832.000000</td>\n",
       "      <td>32.000000</td>\n",
       "    </tr>\n",
       "    <tr>\n",
       "      <th>25%</th>\n",
       "      <td>65385.500000</td>\n",
       "      <td>72.000000</td>\n",
       "    </tr>\n",
       "    <tr>\n",
       "      <th>50%</th>\n",
       "      <td>98797.000000</td>\n",
       "      <td>85.000000</td>\n",
       "    </tr>\n",
       "    <tr>\n",
       "      <th>75%</th>\n",
       "      <td>125000.000000</td>\n",
       "      <td>88.000000</td>\n",
       "    </tr>\n",
       "    <tr>\n",
       "      <th>max</th>\n",
       "      <td>500000.000000</td>\n",
       "      <td>100.000000</td>\n",
       "    </tr>\n",
       "  </tbody>\n",
       "</table>\n",
       "</div>"
      ],
      "text/plain": [
       "         Salaries($)     Ratings\n",
       "count     281.000000  281.000000\n",
       "mean    99034.782918   80.135231\n",
       "std     42913.952169   11.368952\n",
       "min     26832.000000   32.000000\n",
       "25%     65385.500000   72.000000\n",
       "50%     98797.000000   85.000000\n",
       "75%    125000.000000   88.000000\n",
       "max    500000.000000  100.000000"
      ]
     },
     "execution_count": 42,
     "metadata": {},
     "output_type": "execute_result"
    }
   ],
   "source": [
    "cleaned_df.describe()"
   ]
  },
  {
   "cell_type": "code",
   "execution_count": 43,
   "metadata": {},
   "outputs": [
    {
     "name": "stderr",
     "output_type": "stream",
     "text": [
      "C:\\Anaconda\\lib\\site-packages\\seaborn\\distributions.py:2551: FutureWarning: `distplot` is a deprecated function and will be removed in a future version. Please adapt your code to use either `displot` (a figure-level function with similar flexibility) or `histplot` (an axes-level function for histograms).\n",
      "  warnings.warn(msg, FutureWarning)\n"
     ]
    },
    {
     "data": {
      "image/png": "[encoded data removed]",
      "text/plain": [
       "<Figure size 2160x864 with 1 Axes>"
      ]
     },
     "metadata": {
      "needs_background": "light"
     },
     "output_type": "display_data"
    }
   ],
   "source": [
    "fix , ax = plt.subplots(figsize=(30,12))\n",
    "sns.distplot(cleaned_df['Salaries($)'], bins = 90, kde=False)\n",
    "plt.title('The Distributions Of Salaries ($) Across 15 US States', fontsize='24', pad=27)\n",
    "plt.xlabel('($ - Salary Range)', fontsize='24', labelpad=18)\n",
    "plt.ylabel('Counts', fontsize='24', labelpad=18)\n",
    "ax.tick_params(axis='x', which='major', labelsize=21)\n",
    "ax.tick_params(axis='y', which='major', labelsize=21)\n",
    "plt.show()"
   ]
  },
  {
   "cell_type": "markdown",
   "metadata": {},
   "source": [
    "## **Create a classification model to predict High/Low salary.**\n",
    "**Model based on location:**\n",
    "\n",
    "- Start by ONLY using the location as a feature.\n",
    "- Use logistic regression with both statsmodels and sklearn.\n",
    "- Use a further classifier you find suitable.\n",
    "- Remember that scaling your features might be necessary.\n",
    "- Display the coefficients/feature importances and write a short summary of what they mean.\n",
    "\n",
    "**Model taking into account job levels and categories:**\n",
    "\n",
    "- Create a few new variables in your dataframe to represent interesting features of a job title.\n",
    "- For example, create a feature that represents whether 'Senior' is in the title or whether 'Manager' is in the title.\n",
    "- Incorporate other text features from the title or summary that you believe will predict the salary.\n",
    "- Then build new classification models including also those features. Do they add any value?\n",
    "- Tune your models by testing parameter ranges, regularization strengths, etc. Discuss how that affects your models.\n",
    "- Discuss model coefficients or feature importances as applicable.\n",
    "\n",
    "**Model evaluation:**\n",
    "\n",
    "\n",
    "Your boss would rather tell a client incorrectly that they would get a lower salary job than tell a client incorrectly that they would get a high salary job. Adjust one of your models to ease his mind, and explain what it is doing and any tradeoffs.\n",
    "\n",
    "- Use cross-validation to evaluate your models.\n",
    "- Evaluate the accuracy, AUC, precision and recall of the models.\n",
    "- Plot the ROC and precision-recall curves for at least one of your models."
   ]
  },
  {
   "cell_type": "markdown",
   "metadata": {},
   "source": [
    "# Model 1 - (Features: Only Locations)"
   ]
  },
  {
   "cell_type": "code",
   "execution_count": 44,
   "metadata": {},
   "outputs": [],
   "source": [
    "X = cleaned_df.copy()"
   ]
  },
  {
   "cell_type": "code",
   "execution_count": 45,
   "metadata": {},
   "outputs": [],
   "source": [
    "X = cleaned_df.copy()\n",
    "X = X.dropna(how='any')\n",
    "X.drop(columns=['Companies', 'Salaries($)', 'Titles'], inplace=True)\n",
    "X = pd.get_dummies(data=X, drop_first=True, columns=['State', 'Locations'])\n",
    "y = X.pop('Salary_Class')"
   ]
  },
  {
   "cell_type": "code",
   "execution_count": 46,
   "metadata": {},
   "outputs": [],
   "source": [
    "X_train, X_test, y_train, y_test = train_test_split(\n",
    "X, y, test_size=0.2, random_state=1, stratify=y)"
   ]
  },
  {
   "cell_type": "code",
   "execution_count": 47,
   "metadata": {},
   "outputs": [
    {
     "name": "stdout",
     "output_type": "stream",
     "text": [
      "KNeighborsClassifier()\n",
      "The Cross Validation Score:  0.69\n",
      "---------\n",
      "LogisticRegression()\n"
     ]
    },
    {
     "name": "stderr",
     "output_type": "stream",
     "text": [
      "C:\\Anaconda\\lib\\site-packages\\sklearn\\linear_model\\_logistic.py:763: ConvergenceWarning: lbfgs failed to converge (status=1):\n",
      "STOP: TOTAL NO. of ITERATIONS REACHED LIMIT.\n",
      "\n",
      "Increase the number of iterations (max_iter) or scale the data as shown in:\n",
      "    https://scikit-learn.org/stable/modules/preprocessing.html\n",
      "Please also refer to the documentation for alternative solver options:\n",
      "    https://scikit-learn.org/stable/modules/linear_model.html#logistic-regression\n",
      "  n_iter_i = _check_optimize_result(\n",
      "C:\\Anaconda\\lib\\site-packages\\sklearn\\linear_model\\_logistic.py:763: ConvergenceWarning: lbfgs failed to converge (status=1):\n",
      "STOP: TOTAL NO. of ITERATIONS REACHED LIMIT.\n",
      "\n",
      "Increase the number of iterations (max_iter) or scale the data as shown in:\n",
      "    https://scikit-learn.org/stable/modules/preprocessing.html\n",
      "Please also refer to the documentation for alternative solver options:\n",
      "    https://scikit-learn.org/stable/modules/linear_model.html#logistic-regression\n",
      "  n_iter_i = _check_optimize_result(\n",
      "C:\\Anaconda\\lib\\site-packages\\sklearn\\linear_model\\_logistic.py:763: ConvergenceWarning: lbfgs failed to converge (status=1):\n",
      "STOP: TOTAL NO. of ITERATIONS REACHED LIMIT.\n",
      "\n",
      "Increase the number of iterations (max_iter) or scale the data as shown in:\n",
      "    https://scikit-learn.org/stable/modules/preprocessing.html\n",
      "Please also refer to the documentation for alternative solver options:\n",
      "    https://scikit-learn.org/stable/modules/linear_model.html#logistic-regression\n",
      "  n_iter_i = _check_optimize_result(\n",
      "C:\\Anaconda\\lib\\site-packages\\sklearn\\linear_model\\_logistic.py:763: ConvergenceWarning: lbfgs failed to converge (status=1):\n",
      "STOP: TOTAL NO. of ITERATIONS REACHED LIMIT.\n",
      "\n",
      "Increase the number of iterations (max_iter) or scale the data as shown in:\n",
      "    https://scikit-learn.org/stable/modules/preprocessing.html\n",
      "Please also refer to the documentation for alternative solver options:\n",
      "    https://scikit-learn.org/stable/modules/linear_model.html#logistic-regression\n",
      "  n_iter_i = _check_optimize_result(\n",
      "C:\\Anaconda\\lib\\site-packages\\sklearn\\linear_model\\_logistic.py:763: ConvergenceWarning: lbfgs failed to converge (status=1):\n",
      "STOP: TOTAL NO. of ITERATIONS REACHED LIMIT.\n",
      "\n",
      "Increase the number of iterations (max_iter) or scale the data as shown in:\n",
      "    https://scikit-learn.org/stable/modules/preprocessing.html\n",
      "Please also refer to the documentation for alternative solver options:\n",
      "    https://scikit-learn.org/stable/modules/linear_model.html#logistic-regression\n",
      "  n_iter_i = _check_optimize_result(\n"
     ]
    },
    {
     "name": "stdout",
     "output_type": "stream",
     "text": [
      "The Cross Validation Score:  0.63\n",
      "---------\n",
      "DecisionTreeClassifier()\n",
      "The Cross Validation Score:  0.74\n",
      "---------\n",
      "SVC()\n",
      "The Cross Validation Score:  0.52\n",
      "---------\n",
      "RandomForestClassifier()\n",
      "The Cross Validation Score:  0.75\n",
      "---------\n",
      "ExtraTreesClassifier()\n",
      "The Cross Validation Score:  0.71\n",
      "---------\n"
     ]
    },
    {
     "name": "stderr",
     "output_type": "stream",
     "text": [
      "C:\\Anaconda\\lib\\site-packages\\sklearn\\linear_model\\_logistic.py:763: ConvergenceWarning: lbfgs failed to converge (status=1):\n",
      "STOP: TOTAL NO. of ITERATIONS REACHED LIMIT.\n",
      "\n",
      "Increase the number of iterations (max_iter) or scale the data as shown in:\n",
      "    https://scikit-learn.org/stable/modules/preprocessing.html\n",
      "Please also refer to the documentation for alternative solver options:\n",
      "    https://scikit-learn.org/stable/modules/linear_model.html#logistic-regression\n",
      "  n_iter_i = _check_optimize_result(\n"
     ]
    }
   ],
   "source": [
    "models = [KNeighborsClassifier(),\n",
    "          LogisticRegression(solver='lbfgs', multi_class='auto'),\n",
    "          DecisionTreeClassifier(),\n",
    "          SVC(gamma='scale'),\n",
    "          RandomForestClassifier(n_estimators=100),\n",
    "          ExtraTreesClassifier(n_estimators=100)]\n",
    "\n",
    "skf = StratifiedKFold(n_splits=5, shuffle=False)\n",
    "\n",
    "for model in models:\n",
    "    print(model)\n",
    "    model.fit(X_train, y_train)\n",
    "    print(\"The Cross Validation Score: \", round(np.mean(cross_val_score(model, X_train, y_train, cv=skf)),2))\n",
    "    y_pred = model.predict(X_test)\n",
    "    print('---------')\n",
    "    \n",
    "    \n",
    "models[1].fit(X_train, y_train)\n",
    "model_1_coefficients_matrix = pd.DataFrame(np.abs(np.reshape(models[1].coef_, (-1, 1))), \n",
    "                                           index= X_train.columns, columns=['Log_Odds_Coefficients'])"
   ]
  },
  {
   "cell_type": "markdown",
   "metadata": {},
   "source": [
    "# Model 1 - Absolute Coefficients"
   ]
  },
  {
   "cell_type": "code",
   "execution_count": 48,
   "metadata": {},
   "outputs": [
    {
     "data": {
      "text/html": [
       "<div>\n",
       "<style scoped>\n",
       "    .dataframe tbody tr th:only-of-type {\n",
       "        vertical-align: middle;\n",
       "    }\n",
       "\n",
       "    .dataframe tbody tr th {\n",
       "        vertical-align: top;\n",
       "    }\n",
       "\n",
       "    .dataframe thead th {\n",
       "        text-align: right;\n",
       "    }\n",
       "</style>\n",
       "<table border=\"1\" class=\"dataframe\">\n",
       "  <thead>\n",
       "    <tr style=\"text-align: right;\">\n",
       "      <th></th>\n",
       "      <th>Log_Odds_Coefficients</th>\n",
       "    </tr>\n",
       "  </thead>\n",
       "  <tbody>\n",
       "    <tr>\n",
       "      <th>Locations_Chicago</th>\n",
       "      <td>1.149558</td>\n",
       "    </tr>\n",
       "    <tr>\n",
       "      <th>Locations_San Francisco</th>\n",
       "      <td>1.146946</td>\n",
       "    </tr>\n",
       "    <tr>\n",
       "      <th>Locations_Berkeley</th>\n",
       "      <td>1.140124</td>\n",
       "    </tr>\n",
       "    <tr>\n",
       "      <th>Locations_Manhattan</th>\n",
       "      <td>1.033832</td>\n",
       "    </tr>\n",
       "    <tr>\n",
       "      <th>Locations_New York</th>\n",
       "      <td>1.027445</td>\n",
       "    </tr>\n",
       "    <tr>\n",
       "      <th>Locations_Phoenix</th>\n",
       "      <td>0.938306</td>\n",
       "    </tr>\n",
       "    <tr>\n",
       "      <th>State_GA</th>\n",
       "      <td>0.933725</td>\n",
       "    </tr>\n",
       "    <tr>\n",
       "      <th>Locations_Dallas</th>\n",
       "      <td>0.917539</td>\n",
       "    </tr>\n",
       "    <tr>\n",
       "      <th>Locations_Denver</th>\n",
       "      <td>0.911106</td>\n",
       "    </tr>\n",
       "    <tr>\n",
       "      <th>State_NY</th>\n",
       "      <td>0.888323</td>\n",
       "    </tr>\n",
       "    <tr>\n",
       "      <th>Locations_Vancouver</th>\n",
       "      <td>0.860791</td>\n",
       "    </tr>\n",
       "    <tr>\n",
       "      <th>State_WA</th>\n",
       "      <td>0.724820</td>\n",
       "    </tr>\n",
       "  </tbody>\n",
       "</table>\n",
       "</div>"
      ],
      "text/plain": [
       "                         Log_Odds_Coefficients\n",
       "Locations_Chicago                     1.149558\n",
       "Locations_San Francisco               1.146946\n",
       "Locations_Berkeley                    1.140124\n",
       "Locations_Manhattan                   1.033832\n",
       "Locations_New York                    1.027445\n",
       "Locations_Phoenix                     0.938306\n",
       "State_GA                              0.933725\n",
       "Locations_Dallas                      0.917539\n",
       "Locations_Denver                      0.911106\n",
       "State_NY                              0.888323\n",
       "Locations_Vancouver                   0.860791\n",
       "State_WA                              0.724820"
      ]
     },
     "execution_count": 48,
     "metadata": {},
     "output_type": "execute_result"
    }
   ],
   "source": [
    "model_1_coefficients_matrix.sort_values(by='Log_Odds_Coefficients', ascending=False).head(12)\n"
   ]
  },
  {
   "cell_type": "markdown",
   "metadata": {},
   "source": [
    "The absolute coefficients are largest within the following cities:\n",
    "\n",
    "- Chicago\n",
    "- San Francisco\n",
    "- Berkeley\n",
    "- Manhattan\n",
    "- New York\n",
    "- Phoenix\n",
    "\n",
    "This means any jobs that are located within these areas will have larger (positive/negative) changes to the log odds and probabilties (class 0 or class 1 assignment) in comparison to the other locations.\n",
    "\n",
    "Additionally there are 3 states which have large absolute coefficient values: GA, NY and WA.\n",
    "\n"
   ]
  },
  {
   "cell_type": "code",
   "execution_count": 51,
   "metadata": {},
   "outputs": [],
   "source": [
    "# #Please Find The Commented Code Below For Running Logistic Regression Using Stats Models\n",
    "\n",
    "#import statsmodels.discrete.discrete_model as sm\n",
    "#import statsmodels.formula.api as sm\n",
    "#import statsmodels as sm\n",
    "#def binarizer(item):\n",
    "#     if item == 'HIGH SALARY':\n",
    "#         return 0\n",
    "#     else:\n",
    "#         return 1\n",
    "\n",
    "#X = cleaned_df.copy()\n",
    "#X = X.dropna(how='any')\n",
    "#X.drop(columns=['Companies', 'Salaries($)'], inplace=True)\n",
    "#X = pd.get_dummies(data=X, drop_first=True, columns=['State', 'Locations', 'Titles'])\n",
    "#X['intercept'] = 1\n",
    "#y = X.pop('Salary_Class')\n",
    "#y = y.apply(binarizer)\n",
    "\n",
    "#sm_log_reg_model = sm.Logit(y, X).fit(method='lbfgs')\n",
    "#sm_log_reg_model.summary()\n"
   ]
  },
  {
   "cell_type": "markdown",
   "metadata": {},
   "source": [
    "# Model 2 - (Features: Locations + Dummifyed Job Titles)"
   ]
  },
  {
   "cell_type": "code",
   "execution_count": 52,
   "metadata": {},
   "outputs": [
    {
     "name": "stdout",
     "output_type": "stream",
     "text": [
      "--------\n",
      "The Cross Validation Score 0.66\n",
      "The Logistic Regression Accuracy Score 0.81\n",
      "--------\n"
     ]
    }
   ],
   "source": [
    "#Display the coefficients/feature importances and write a short summary of what they mean.\n",
    "\n",
    "from sklearn.linear_model import LogisticRegressionCV\n",
    "from sklearn.model_selection import StratifiedKFold\n",
    "\n",
    "from warnings import filterwarnings\n",
    "filterwarnings('ignore')\n",
    "\n",
    "\n",
    "X = cleaned_df.copy()\n",
    "X = X.dropna(how='any')\n",
    "X.drop(columns=['Companies', 'Salaries($)'], inplace=True)\n",
    "X = pd.get_dummies(data=X, drop_first=True, columns=['State', 'Locations', 'Titles'])\n",
    "y = X.pop('Salary_Class')\n",
    "\n",
    "X_train, X_test, y_train, y_test = train_test_split(\n",
    "X, y, test_size=0.2, random_state=1, stratify=y)\n",
    "\n",
    "\n",
    "skf = StratifiedKFold(n_splits=5, shuffle=False)\n",
    "\n",
    "log_reg_model = LogisticRegression(solver='lbfgs', multi_class='auto')\n",
    "log_reg_model.fit(X_train, y_train)\n",
    "y_pred = log_reg_model.predict(X_test)\n",
    "\n",
    "print('--------')\n",
    "print(\"The Cross Validation Score\", round(np.mean(cross_val_score(log_reg_model, X_train, y_train, \n",
    "                                                                                              cv=skf, verbose=0, )),3))\n",
    "print(\"The Logistic Regression Accuracy Score\", np.round(log_reg_model.score(X_test, y_test),2))\n",
    "print('--------')\n",
    "\n",
    "### Producing The Coefficients ###\n",
    "\n",
    "Logistic_Regression_Coefficients = log_reg_model.coef_\n",
    "\n",
    "## Reshaping A Numpy Array + Setting Absolute Values For The Coefficients  ##\n",
    "Logistic_Regression_Coefficients = np.abs(np.reshape(Logistic_Regression_Coefficients, (-1, 1)))\n",
    "\n",
    "\n",
    "coefficients_matrix = pd.DataFrame(Logistic_Regression_Coefficients, index= X_train.columns, columns=['Log_Odds_Coefficients'])"
   ]
  },
  {
   "cell_type": "markdown",
   "metadata": {},
   "source": [
    "# Model 2 - Absolute Coefficients\n",
    "The coefficients have a linear impact on the log-odds. All of the coefficients (whether positive or negative) below have been converted to an absolute value.\n",
    "\n",
    "After dummifying the Job Titles, we can see that titles with the exact words \"Data Scientist\" are the largest Log Odds Coefficients, additionally the locations from the first model are still prevalent within this model."
   ]
  },
  {
   "cell_type": "code",
   "execution_count": 53,
   "metadata": {},
   "outputs": [
    {
     "data": {
      "text/html": [
       "<div>\n",
       "<style scoped>\n",
       "    .dataframe tbody tr th:only-of-type {\n",
       "        vertical-align: middle;\n",
       "    }\n",
       "\n",
       "    .dataframe tbody tr th {\n",
       "        vertical-align: top;\n",
       "    }\n",
       "\n",
       "    .dataframe thead th {\n",
       "        text-align: right;\n",
       "    }\n",
       "</style>\n",
       "<table border=\"1\" class=\"dataframe\">\n",
       "  <thead>\n",
       "    <tr style=\"text-align: right;\">\n",
       "      <th></th>\n",
       "      <th>Log_Odds_Coefficients</th>\n",
       "    </tr>\n",
       "  </thead>\n",
       "  <tbody>\n",
       "    <tr>\n",
       "      <th>Titles_Data Scientist</th>\n",
       "      <td>1.325967</td>\n",
       "    </tr>\n",
       "    <tr>\n",
       "      <th>Locations_Chicago</th>\n",
       "      <td>1.023918</td>\n",
       "    </tr>\n",
       "    <tr>\n",
       "      <th>Locations_Berkeley</th>\n",
       "      <td>0.991466</td>\n",
       "    </tr>\n",
       "    <tr>\n",
       "      <th>Locations_Manhattan</th>\n",
       "      <td>0.990899</td>\n",
       "    </tr>\n",
       "    <tr>\n",
       "      <th>Locations_New York</th>\n",
       "      <td>0.973044</td>\n",
       "    </tr>\n",
       "    <tr>\n",
       "      <th>Locations_San Francisco</th>\n",
       "      <td>0.970968</td>\n",
       "    </tr>\n",
       "    <tr>\n",
       "      <th>State_GA</th>\n",
       "      <td>0.865584</td>\n",
       "    </tr>\n",
       "    <tr>\n",
       "      <th>Locations_Phoenix</th>\n",
       "      <td>0.847192</td>\n",
       "    </tr>\n",
       "    <tr>\n",
       "      <th>State_NY</th>\n",
       "      <td>0.826111</td>\n",
       "    </tr>\n",
       "    <tr>\n",
       "      <th>Locations_Dallas</th>\n",
       "      <td>0.802664</td>\n",
       "    </tr>\n",
       "    <tr>\n",
       "      <th>Titles_Senior Front End Engineer, UI/UX team</th>\n",
       "      <td>0.794698</td>\n",
       "    </tr>\n",
       "    <tr>\n",
       "      <th>Titles_UI/UX Engineer, Explainable AI</th>\n",
       "      <td>0.794698</td>\n",
       "    </tr>\n",
       "  </tbody>\n",
       "</table>\n",
       "</div>"
      ],
      "text/plain": [
       "                                              Log_Odds_Coefficients\n",
       "Titles_Data Scientist                                      1.325967\n",
       "Locations_Chicago                                          1.023918\n",
       "Locations_Berkeley                                         0.991466\n",
       "Locations_Manhattan                                        0.990899\n",
       "Locations_New York                                         0.973044\n",
       "Locations_San Francisco                                    0.970968\n",
       "State_GA                                                   0.865584\n",
       "Locations_Phoenix                                          0.847192\n",
       "State_NY                                                   0.826111\n",
       "Locations_Dallas                                           0.802664\n",
       "Titles_Senior Front End Engineer, UI/UX team               0.794698\n",
       "Titles_UI/UX Engineer, Explainable AI                      0.794698"
      ]
     },
     "execution_count": 53,
     "metadata": {},
     "output_type": "execute_result"
    }
   ],
   "source": [
    "coefficients_matrix.sort_values(by='Log_Odds_Coefficients', ascending=False).head(12)\n"
   ]
  },
  {
   "cell_type": "code",
   "execution_count": 54,
   "metadata": {},
   "outputs": [
    {
     "data": {
      "image/png": "[encoded data removed]",
      "text/plain": [
       "<Figure size 2160x864 with 1 Axes>"
      ]
     },
     "metadata": {
      "needs_background": "light"
     },
     "output_type": "display_data"
    }
   ],
   "source": [
    "\n",
    "fig, ax = plt.subplots(figsize=(30,12))\n",
    "sns.barplot(x=coefficients_matrix.sort_values(by='Log_Odds_Coefficients', ascending=False).head(12).index,\n",
    "            y= [float(item) for item in coefficients_matrix.sort_values(by='Log_Odds_Coefficients', ascending=False).head(12).values])\n",
    "plt.title('The Top 10 Log Odds Coefficients From The Logisitic Regression Model', pad=30, fontsize='25')\n",
    "plt.xlabel('Features', fontsize='24', labelpad=30)\n",
    "plt.ylabel('Absolute Log Odds Coefficient Values', fontsize='24', labelpad=18)\n",
    "ax.tick_params(axis='x', which='major', labelsize=15, rotation=18)\n",
    "ax.tick_params(axis='y', which='major', labelsize=21)"
   ]
  },
  {
   "cell_type": "markdown",
   "metadata": {},
   "source": [
    "# Model 3 - (Features: Locations + TFID Vectorized Job Titles)"
   ]
  },
  {
   "cell_type": "code",
   "execution_count": 55,
   "metadata": {},
   "outputs": [],
   "source": [
    "\n",
    "#Additional Feature Engineering - NLP Text Data\n",
    "\n",
    "from sklearn.feature_extraction.text import TfidfVectorizer\n",
    "vectorizer = TfidfVectorizer(stop_words = 'english'\n",
    "                            ,min_df=3, \n",
    "                             ngram_range=(1, 4),\n",
    "                             max_features = 1000,\n",
    "                            )\n",
    "\n",
    "X = cleaned_df.copy()\n",
    "X = X.dropna(how='any')\n",
    "X.drop(columns=['Companies', 'Salaries($)'], inplace=True)\n",
    "X = pd.get_dummies(data=X, drop_first=True, columns=['State', 'Locations'])\n",
    "y = X.pop('Salary_Class')"
   ]
  },
  {
   "cell_type": "code",
   "execution_count": 56,
   "metadata": {},
   "outputs": [],
   "source": [
    "X2_train, X2_test, y2_train, y2_test = train_test_split(\n",
    "X, y, test_size=0.2, random_state=1, stratify=y)\n",
    "\n",
    "X2_train_titles = vectorizer.fit_transform(X2_train['Titles'])\n",
    "X2_test_titles = vectorizer.transform(X2_test['Titles'])\n",
    "\n",
    "X2_train.drop(columns=['Titles'], inplace=True)\n",
    "X2_test.drop(columns=['Titles'], inplace=True)\n",
    "\n",
    "X_Train_Sparse = sparse.csr_matrix(X2_train.values)\n",
    "X_Test_Sparse = sparse.csr_matrix(X2_test.values)\n",
    "\n",
    "y2_train.reset_index(drop=True)\n",
    "y2_test.reset_index(drop=True)\n",
    "\n",
    "X2_train = sparse.hstack((X2_train_titles, X_Train_Sparse))\n",
    "X2_test = sparse.hstack((X2_test_titles, X_Test_Sparse))"
   ]
  },
  {
   "cell_type": "code",
   "execution_count": 57,
   "metadata": {},
   "outputs": [
    {
     "name": "stdout",
     "output_type": "stream",
     "text": [
      "KNeighborsClassifier()\n",
      "The Cross Validation Score:  0.73\n",
      "Accuracy Score On X_test Data 0.7\n",
      "---------\n",
      "LogisticRegression()\n",
      "The Cross Validation Score:  0.84\n",
      "Accuracy Score On X_test Data 0.77\n",
      "---------\n",
      "DecisionTreeClassifier()\n",
      "The Cross Validation Score:  0.84\n",
      "Accuracy Score On X_test Data 0.74\n",
      "---------\n",
      "SVC()\n",
      "The Cross Validation Score:  0.52\n",
      "Accuracy Score On X_test Data 0.53\n",
      "---------\n",
      "RandomForestClassifier()\n",
      "The Cross Validation Score:  0.86\n",
      "Accuracy Score On X_test Data 0.75\n",
      "---------\n",
      "ExtraTreesClassifier()\n",
      "The Cross Validation Score:  0.87\n",
      "Accuracy Score On X_test Data 0.75\n",
      "---------\n"
     ]
    }
   ],
   "source": [
    "models = [KNeighborsClassifier(),\n",
    "          LogisticRegression(solver='lbfgs', multi_class='auto'),\n",
    "          DecisionTreeClassifier(),\n",
    "          SVC(gamma='scale'),\n",
    "          RandomForestClassifier(n_estimators=100),\n",
    "          ExtraTreesClassifier(n_estimators=100)]\n",
    "\n",
    "for model in models:\n",
    "    print(model)\n",
    "    model.fit(X2_train, y2_train)\n",
    "    score = round(model.score(X2_test, y2_test),2)\n",
    "    print(\"The Cross Validation Score: \", round(np.mean(cross_val_score(model, X2_train, y2_train, cv=skf)),2))\n",
    "    print('Accuracy Score On X_test Data', score)\n",
    "    print('---------')"
   ]
  },
  {
   "cell_type": "markdown",
   "metadata": {},
   "source": [
    "# Model 3 - (Scores)\n",
    "After vectorizing the text data with TFID our Logistic Regression cross validation score has increased from 0.65 to 0.83. , this shows that our TFID logistic regression model is able to generalize more to unseen/fresh data in comparison to simply dummifying the job titles, however due to having a lower accuracy score on test data (0.74 vs 0.81) dummifying might be a better methodology if we are simply looking to correctly predict a larger amount of observations.\n",
    "\n",
    "Additionally, given more time a count vectorizer model would be advisable!\n",
    "\n",
    "Furthermore by adding n_grams from 1,4 in size and increasing the mininum document frequency (min_df) to 3, we've been able to increase both scores:\n",
    "\n",
    "- The Cross Validation Score: 0.83 --> 0.84\n",
    "- Accuracy Score On X_test Data 0.74 --> 0.77"
   ]
  },
  {
   "cell_type": "markdown",
   "metadata": {},
   "source": [
    "# Tuning Our Logistic Regression Model With Grid Search"
   ]
  },
  {
   "cell_type": "code",
   "execution_count": 58,
   "metadata": {},
   "outputs": [],
   "source": [
    "params = {\n",
    "    'penalty': ['l2'],\n",
    "    'solver': ['lbfgs', 'liblinear'],\n",
    "    'C': np.linspace(0.1,12,1000)\n",
    "}"
   ]
  },
  {
   "cell_type": "code",
   "execution_count": 59,
   "metadata": {},
   "outputs": [],
   "source": [
    "import numpy as np\n"
   ]
  },
  {
   "cell_type": "code",
   "execution_count": 60,
   "metadata": {},
   "outputs": [],
   "source": [
    "log_reg_cv_model = LogisticRegression()\n"
   ]
  },
  {
   "cell_type": "code",
   "execution_count": 61,
   "metadata": {},
   "outputs": [
    {
     "name": "stdout",
     "output_type": "stream",
     "text": [
      "Fitting 5 folds for each of 2000 candidates, totalling 10000 fits\n"
     ]
    },
    {
     "data": {
      "text/plain": [
       "GridSearchCV(cv=StratifiedKFold(n_splits=5, random_state=None, shuffle=False),\n",
       "             estimator=LogisticRegression(), n_jobs=-1,\n",
       "             param_grid={'C': array([ 0.1       ,  0.11191191,  0.12382382,  0.13573574,  0.14764765,\n",
       "        0.15955956,  0.17147147,  0.18338338,  0.1952953 ,  0.20720721,\n",
       "        0.21911912,  0.23103103,  0.24294294,  0.25485485,  0.26676677,\n",
       "        0.27867868,  0.29059059,  0.3025025 ,  0.31441441,  0.32632633...\n",
       "       11.71411411, 11.72602603, 11.73793794, 11.74984985, 11.76176176,\n",
       "       11.77367367, 11.78558559, 11.7974975 , 11.80940941, 11.82132132,\n",
       "       11.83323323, 11.84514515, 11.85705706, 11.86896897, 11.88088088,\n",
       "       11.89279279, 11.9047047 , 11.91661662, 11.92852853, 11.94044044,\n",
       "       11.95235235, 11.96426426, 11.97617618, 11.98808809, 12.        ]),\n",
       "                         'penalty': ['l2'], 'solver': ['lbfgs', 'liblinear']},\n",
       "             return_train_score=True, verbose=1)"
      ]
     },
     "execution_count": 61,
     "metadata": {},
     "output_type": "execute_result"
    }
   ],
   "source": [
    "grid_search_model = GridSearchCV(log_reg_cv_model, \n",
    "                                 param_grid = params, \n",
    "                                 verbose=1, \n",
    "                                 n_jobs=-1,  \n",
    "                                 cv=skf,\n",
    "                                return_train_score=True)\n",
    "                                \n",
    "grid_search_model.fit(X2_train, y2_train)"
   ]
  },
  {
   "cell_type": "code",
   "execution_count": 62,
   "metadata": {},
   "outputs": [
    {
     "data": {
      "text/html": [
       "<div>\n",
       "<style scoped>\n",
       "    .dataframe tbody tr th:only-of-type {\n",
       "        vertical-align: middle;\n",
       "    }\n",
       "\n",
       "    .dataframe tbody tr th {\n",
       "        vertical-align: top;\n",
       "    }\n",
       "\n",
       "    .dataframe thead th {\n",
       "        text-align: right;\n",
       "    }\n",
       "</style>\n",
       "<table border=\"1\" class=\"dataframe\">\n",
       "  <thead>\n",
       "    <tr style=\"text-align: right;\">\n",
       "      <th></th>\n",
       "      <th>mean_fit_time</th>\n",
       "      <th>std_fit_time</th>\n",
       "      <th>mean_score_time</th>\n",
       "      <th>std_score_time</th>\n",
       "      <th>param_C</th>\n",
       "      <th>param_penalty</th>\n",
       "      <th>param_solver</th>\n",
       "      <th>params</th>\n",
       "      <th>split0_test_score</th>\n",
       "      <th>split1_test_score</th>\n",
       "      <th>...</th>\n",
       "      <th>mean_test_score</th>\n",
       "      <th>std_test_score</th>\n",
       "      <th>rank_test_score</th>\n",
       "      <th>split0_train_score</th>\n",
       "      <th>split1_train_score</th>\n",
       "      <th>split2_train_score</th>\n",
       "      <th>split3_train_score</th>\n",
       "      <th>split4_train_score</th>\n",
       "      <th>mean_train_score</th>\n",
       "      <th>std_train_score</th>\n",
       "    </tr>\n",
       "  </thead>\n",
       "  <tbody>\n",
       "    <tr>\n",
       "      <th>978</th>\n",
       "      <td>0.097056</td>\n",
       "      <td>0.006164</td>\n",
       "      <td>0.000000</td>\n",
       "      <td>0.000000</td>\n",
       "      <td>5.92492</td>\n",
       "      <td>l2</td>\n",
       "      <td>lbfgs</td>\n",
       "      <td>{'C': 5.924924924924925, 'penalty': 'l2', 'solver': 'lbfgs'}</td>\n",
       "      <td>0.844444</td>\n",
       "      <td>0.911111</td>\n",
       "      <td>...</td>\n",
       "      <td>0.865657</td>\n",
       "      <td>0.052455</td>\n",
       "      <td>1</td>\n",
       "      <td>0.966480</td>\n",
       "      <td>0.955307</td>\n",
       "      <td>0.972067</td>\n",
       "      <td>0.960894</td>\n",
       "      <td>0.983333</td>\n",
       "      <td>0.967616</td>\n",
       "      <td>0.009642</td>\n",
       "    </tr>\n",
       "    <tr>\n",
       "      <th>754</th>\n",
       "      <td>0.104268</td>\n",
       "      <td>0.009706</td>\n",
       "      <td>0.000400</td>\n",
       "      <td>0.000799</td>\n",
       "      <td>4.59079</td>\n",
       "      <td>l2</td>\n",
       "      <td>lbfgs</td>\n",
       "      <td>{'C': 4.590790790790791, 'penalty': 'l2', 'solver': 'lbfgs'}</td>\n",
       "      <td>0.844444</td>\n",
       "      <td>0.911111</td>\n",
       "      <td>...</td>\n",
       "      <td>0.861212</td>\n",
       "      <td>0.051226</td>\n",
       "      <td>2</td>\n",
       "      <td>0.955307</td>\n",
       "      <td>0.949721</td>\n",
       "      <td>0.960894</td>\n",
       "      <td>0.944134</td>\n",
       "      <td>0.983333</td>\n",
       "      <td>0.958678</td>\n",
       "      <td>0.013535</td>\n",
       "    </tr>\n",
       "    <tr>\n",
       "      <th>1796</th>\n",
       "      <td>0.094581</td>\n",
       "      <td>0.010186</td>\n",
       "      <td>0.000400</td>\n",
       "      <td>0.000800</td>\n",
       "      <td>10.7969</td>\n",
       "      <td>l2</td>\n",
       "      <td>lbfgs</td>\n",
       "      <td>{'C': 10.796896896896898, 'penalty': 'l2', 'solver': 'lbfgs'}</td>\n",
       "      <td>0.844444</td>\n",
       "      <td>0.888889</td>\n",
       "      <td>...</td>\n",
       "      <td>0.861212</td>\n",
       "      <td>0.049260</td>\n",
       "      <td>2</td>\n",
       "      <td>0.977654</td>\n",
       "      <td>0.966480</td>\n",
       "      <td>0.977654</td>\n",
       "      <td>0.960894</td>\n",
       "      <td>0.988889</td>\n",
       "      <td>0.974314</td>\n",
       "      <td>0.009759</td>\n",
       "    </tr>\n",
       "    <tr>\n",
       "      <th>912</th>\n",
       "      <td>0.099991</td>\n",
       "      <td>0.007652</td>\n",
       "      <td>0.000000</td>\n",
       "      <td>0.000000</td>\n",
       "      <td>5.53183</td>\n",
       "      <td>l2</td>\n",
       "      <td>lbfgs</td>\n",
       "      <td>{'C': 5.531831831831832, 'penalty': 'l2', 'solver': 'lbfgs'}</td>\n",
       "      <td>0.844444</td>\n",
       "      <td>0.911111</td>\n",
       "      <td>...</td>\n",
       "      <td>0.861212</td>\n",
       "      <td>0.051226</td>\n",
       "      <td>2</td>\n",
       "      <td>0.960894</td>\n",
       "      <td>0.960894</td>\n",
       "      <td>0.972067</td>\n",
       "      <td>0.949721</td>\n",
       "      <td>0.983333</td>\n",
       "      <td>0.965382</td>\n",
       "      <td>0.011424</td>\n",
       "    </tr>\n",
       "    <tr>\n",
       "      <th>818</th>\n",
       "      <td>0.099993</td>\n",
       "      <td>0.007654</td>\n",
       "      <td>0.003125</td>\n",
       "      <td>0.006249</td>\n",
       "      <td>4.97197</td>\n",
       "      <td>l2</td>\n",
       "      <td>lbfgs</td>\n",
       "      <td>{'C': 4.971971971971972, 'penalty': 'l2', 'solver': 'lbfgs'}</td>\n",
       "      <td>0.844444</td>\n",
       "      <td>0.911111</td>\n",
       "      <td>...</td>\n",
       "      <td>0.861212</td>\n",
       "      <td>0.051226</td>\n",
       "      <td>2</td>\n",
       "      <td>0.960894</td>\n",
       "      <td>0.949721</td>\n",
       "      <td>0.966480</td>\n",
       "      <td>0.949721</td>\n",
       "      <td>0.983333</td>\n",
       "      <td>0.962030</td>\n",
       "      <td>0.012474</td>\n",
       "    </tr>\n",
       "    <tr>\n",
       "      <th>...</th>\n",
       "      <td>...</td>\n",
       "      <td>...</td>\n",
       "      <td>...</td>\n",
       "      <td>...</td>\n",
       "      <td>...</td>\n",
       "      <td>...</td>\n",
       "      <td>...</td>\n",
       "      <td>...</td>\n",
       "      <td>...</td>\n",
       "      <td>...</td>\n",
       "      <td>...</td>\n",
       "      <td>...</td>\n",
       "      <td>...</td>\n",
       "      <td>...</td>\n",
       "      <td>...</td>\n",
       "      <td>...</td>\n",
       "      <td>...</td>\n",
       "      <td>...</td>\n",
       "      <td>...</td>\n",
       "      <td>...</td>\n",
       "      <td>...</td>\n",
       "    </tr>\n",
       "    <tr>\n",
       "      <th>4</th>\n",
       "      <td>0.120531</td>\n",
       "      <td>0.041970</td>\n",
       "      <td>0.000999</td>\n",
       "      <td>0.000001</td>\n",
       "      <td>0.123824</td>\n",
       "      <td>l2</td>\n",
       "      <td>lbfgs</td>\n",
       "      <td>{'C': 0.12382382382382383, 'penalty': 'l2', 'solver': 'lbfgs'}</td>\n",
       "      <td>0.777778</td>\n",
       "      <td>0.844444</td>\n",
       "      <td>...</td>\n",
       "      <td>0.798889</td>\n",
       "      <td>0.038554</td>\n",
       "      <td>1994</td>\n",
       "      <td>0.877095</td>\n",
       "      <td>0.843575</td>\n",
       "      <td>0.882682</td>\n",
       "      <td>0.849162</td>\n",
       "      <td>0.883333</td>\n",
       "      <td>0.867169</td>\n",
       "      <td>0.017213</td>\n",
       "    </tr>\n",
       "    <tr>\n",
       "      <th>3</th>\n",
       "      <td>0.007596</td>\n",
       "      <td>0.008208</td>\n",
       "      <td>0.001199</td>\n",
       "      <td>0.000399</td>\n",
       "      <td>0.111912</td>\n",
       "      <td>l2</td>\n",
       "      <td>liblinear</td>\n",
       "      <td>{'C': 0.11191191191191192, 'penalty': 'l2', 'solver': 'liblinear'}</td>\n",
       "      <td>0.755556</td>\n",
       "      <td>0.822222</td>\n",
       "      <td>...</td>\n",
       "      <td>0.790000</td>\n",
       "      <td>0.037251</td>\n",
       "      <td>1997</td>\n",
       "      <td>0.871508</td>\n",
       "      <td>0.843575</td>\n",
       "      <td>0.882682</td>\n",
       "      <td>0.860335</td>\n",
       "      <td>0.894444</td>\n",
       "      <td>0.870509</td>\n",
       "      <td>0.017612</td>\n",
       "    </tr>\n",
       "    <tr>\n",
       "      <th>2</th>\n",
       "      <td>0.095945</td>\n",
       "      <td>0.037952</td>\n",
       "      <td>0.001200</td>\n",
       "      <td>0.000400</td>\n",
       "      <td>0.111912</td>\n",
       "      <td>l2</td>\n",
       "      <td>lbfgs</td>\n",
       "      <td>{'C': 0.11191191191191192, 'penalty': 'l2', 'solver': 'lbfgs'}</td>\n",
       "      <td>0.777778</td>\n",
       "      <td>0.844444</td>\n",
       "      <td>...</td>\n",
       "      <td>0.789899</td>\n",
       "      <td>0.047326</td>\n",
       "      <td>1998</td>\n",
       "      <td>0.877095</td>\n",
       "      <td>0.826816</td>\n",
       "      <td>0.882682</td>\n",
       "      <td>0.849162</td>\n",
       "      <td>0.900000</td>\n",
       "      <td>0.867151</td>\n",
       "      <td>0.025960</td>\n",
       "    </tr>\n",
       "    <tr>\n",
       "      <th>1</th>\n",
       "      <td>0.051169</td>\n",
       "      <td>0.033389</td>\n",
       "      <td>0.001399</td>\n",
       "      <td>0.000489</td>\n",
       "      <td>0.1</td>\n",
       "      <td>l2</td>\n",
       "      <td>liblinear</td>\n",
       "      <td>{'C': 0.1, 'penalty': 'l2', 'solver': 'liblinear'}</td>\n",
       "      <td>0.733333</td>\n",
       "      <td>0.800000</td>\n",
       "      <td>...</td>\n",
       "      <td>0.781111</td>\n",
       "      <td>0.039063</td>\n",
       "      <td>1999</td>\n",
       "      <td>0.871508</td>\n",
       "      <td>0.837989</td>\n",
       "      <td>0.882682</td>\n",
       "      <td>0.860335</td>\n",
       "      <td>0.894444</td>\n",
       "      <td>0.869392</td>\n",
       "      <td>0.019375</td>\n",
       "    </tr>\n",
       "    <tr>\n",
       "      <th>0</th>\n",
       "      <td>0.058167</td>\n",
       "      <td>0.024420</td>\n",
       "      <td>0.001199</td>\n",
       "      <td>0.000399</td>\n",
       "      <td>0.1</td>\n",
       "      <td>l2</td>\n",
       "      <td>lbfgs</td>\n",
       "      <td>{'C': 0.1, 'penalty': 'l2', 'solver': 'lbfgs'}</td>\n",
       "      <td>0.777778</td>\n",
       "      <td>0.800000</td>\n",
       "      <td>...</td>\n",
       "      <td>0.776465</td>\n",
       "      <td>0.046447</td>\n",
       "      <td>2000</td>\n",
       "      <td>0.877095</td>\n",
       "      <td>0.821229</td>\n",
       "      <td>0.882682</td>\n",
       "      <td>0.843575</td>\n",
       "      <td>0.883333</td>\n",
       "      <td>0.861583</td>\n",
       "      <td>0.024946</td>\n",
       "    </tr>\n",
       "  </tbody>\n",
       "</table>\n",
       "<p>2000 rows × 23 columns</p>\n",
       "</div>"
      ],
      "text/plain": [
       "      mean_fit_time  std_fit_time  mean_score_time  std_score_time   param_C  \\\n",
       "978        0.097056      0.006164         0.000000        0.000000   5.92492   \n",
       "754        0.104268      0.009706         0.000400        0.000799   4.59079   \n",
       "1796       0.094581      0.010186         0.000400        0.000800   10.7969   \n",
       "912        0.099991      0.007652         0.000000        0.000000   5.53183   \n",
       "818        0.099993      0.007654         0.003125        0.006249   4.97197   \n",
       "...             ...           ...              ...             ...       ...   \n",
       "4          0.120531      0.041970         0.000999        0.000001  0.123824   \n",
       "3          0.007596      0.008208         0.001199        0.000399  0.111912   \n",
       "2          0.095945      0.037952         0.001200        0.000400  0.111912   \n",
       "1          0.051169      0.033389         0.001399        0.000489       0.1   \n",
       "0          0.058167      0.024420         0.001199        0.000399       0.1   \n",
       "\n",
       "     param_penalty param_solver  \\\n",
       "978             l2        lbfgs   \n",
       "754             l2        lbfgs   \n",
       "1796            l2        lbfgs   \n",
       "912             l2        lbfgs   \n",
       "818             l2        lbfgs   \n",
       "...            ...          ...   \n",
       "4               l2        lbfgs   \n",
       "3               l2    liblinear   \n",
       "2               l2        lbfgs   \n",
       "1               l2    liblinear   \n",
       "0               l2        lbfgs   \n",
       "\n",
       "                                                                  params  \\\n",
       "978         {'C': 5.924924924924925, 'penalty': 'l2', 'solver': 'lbfgs'}   \n",
       "754         {'C': 4.590790790790791, 'penalty': 'l2', 'solver': 'lbfgs'}   \n",
       "1796       {'C': 10.796896896896898, 'penalty': 'l2', 'solver': 'lbfgs'}   \n",
       "912         {'C': 5.531831831831832, 'penalty': 'l2', 'solver': 'lbfgs'}   \n",
       "818         {'C': 4.971971971971972, 'penalty': 'l2', 'solver': 'lbfgs'}   \n",
       "...                                                                  ...   \n",
       "4         {'C': 0.12382382382382383, 'penalty': 'l2', 'solver': 'lbfgs'}   \n",
       "3     {'C': 0.11191191191191192, 'penalty': 'l2', 'solver': 'liblinear'}   \n",
       "2         {'C': 0.11191191191191192, 'penalty': 'l2', 'solver': 'lbfgs'}   \n",
       "1                     {'C': 0.1, 'penalty': 'l2', 'solver': 'liblinear'}   \n",
       "0                         {'C': 0.1, 'penalty': 'l2', 'solver': 'lbfgs'}   \n",
       "\n",
       "      split0_test_score  split1_test_score  ...  mean_test_score  \\\n",
       "978            0.844444           0.911111  ...         0.865657   \n",
       "754            0.844444           0.911111  ...         0.861212   \n",
       "1796           0.844444           0.888889  ...         0.861212   \n",
       "912            0.844444           0.911111  ...         0.861212   \n",
       "818            0.844444           0.911111  ...         0.861212   \n",
       "...                 ...                ...  ...              ...   \n",
       "4              0.777778           0.844444  ...         0.798889   \n",
       "3              0.755556           0.822222  ...         0.790000   \n",
       "2              0.777778           0.844444  ...         0.789899   \n",
       "1              0.733333           0.800000  ...         0.781111   \n",
       "0              0.777778           0.800000  ...         0.776465   \n",
       "\n",
       "      std_test_score  rank_test_score  split0_train_score  split1_train_score  \\\n",
       "978         0.052455                1            0.966480            0.955307   \n",
       "754         0.051226                2            0.955307            0.949721   \n",
       "1796        0.049260                2            0.977654            0.966480   \n",
       "912         0.051226                2            0.960894            0.960894   \n",
       "818         0.051226                2            0.960894            0.949721   \n",
       "...              ...              ...                 ...                 ...   \n",
       "4           0.038554             1994            0.877095            0.843575   \n",
       "3           0.037251             1997            0.871508            0.843575   \n",
       "2           0.047326             1998            0.877095            0.826816   \n",
       "1           0.039063             1999            0.871508            0.837989   \n",
       "0           0.046447             2000            0.877095            0.821229   \n",
       "\n",
       "      split2_train_score  split3_train_score  split4_train_score  \\\n",
       "978             0.972067            0.960894            0.983333   \n",
       "754             0.960894            0.944134            0.983333   \n",
       "1796            0.977654            0.960894            0.988889   \n",
       "912             0.972067            0.949721            0.983333   \n",
       "818             0.966480            0.949721            0.983333   \n",
       "...                  ...                 ...                 ...   \n",
       "4               0.882682            0.849162            0.883333   \n",
       "3               0.882682            0.860335            0.894444   \n",
       "2               0.882682            0.849162            0.900000   \n",
       "1               0.882682            0.860335            0.894444   \n",
       "0               0.882682            0.843575            0.883333   \n",
       "\n",
       "      mean_train_score  std_train_score  \n",
       "978           0.967616         0.009642  \n",
       "754           0.958678         0.013535  \n",
       "1796          0.974314         0.009759  \n",
       "912           0.965382         0.011424  \n",
       "818           0.962030         0.012474  \n",
       "...                ...              ...  \n",
       "4             0.867169         0.017213  \n",
       "3             0.870509         0.017612  \n",
       "2             0.867151         0.025960  \n",
       "1             0.869392         0.019375  \n",
       "0             0.861583         0.024946  \n",
       "\n",
       "[2000 rows x 23 columns]"
      ]
     },
     "execution_count": 62,
     "metadata": {},
     "output_type": "execute_result"
    }
   ],
   "source": [
    "pd.DataFrame(grid_search_model.cv_results_).sort_values(by='mean_test_score', ascending=False)\n"
   ]
  },
  {
   "cell_type": "code",
   "execution_count": 63,
   "metadata": {},
   "outputs": [
    {
     "data": {
      "text/plain": [
       "0.7368421052631579"
      ]
     },
     "execution_count": 63,
     "metadata": {},
     "output_type": "execute_result"
    }
   ],
   "source": [
    "grid_search_model.score(X2_test, y2_test)\n"
   ]
  },
  {
   "cell_type": "code",
   "execution_count": 64,
   "metadata": {},
   "outputs": [
    {
     "data": {
      "text/plain": [
       "0.8656565656565656"
      ]
     },
     "execution_count": 64,
     "metadata": {},
     "output_type": "execute_result"
    }
   ],
   "source": [
    "grid_search_model.best_score_\n"
   ]
  },
  {
   "cell_type": "code",
   "execution_count": 65,
   "metadata": {},
   "outputs": [
    {
     "name": "stdout",
     "output_type": "stream",
     "text": [
      "Fitting 5 folds for each of 2000 candidates, totalling 10000 fits\n",
      "Fitting 5 folds for each of 2000 candidates, totalling 10000 fits\n",
      "Fitting 5 folds for each of 2000 candidates, totalling 10000 fits\n",
      "Fitting 5 folds for each of 2000 candidates, totalling 10000 fits\n",
      "Fitting 5 folds for each of 2000 candidates, totalling 10000 fits\n"
     ]
    },
    {
     "data": {
      "text/plain": [
       "array([0.82222222, 0.88888889, 0.88888889, 0.88888889, 0.77272727])"
      ]
     },
     "execution_count": 65,
     "metadata": {},
     "output_type": "execute_result"
    }
   ],
   "source": [
    "cross_val_score(grid_search_model, X2_train, y2_train)\n"
   ]
  },
  {
   "cell_type": "markdown",
   "metadata": {},
   "source": [
    "By applying grid search, we have been able to increase both our cross validation and scores on the held test data:\n",
    "\n",
    "- The Cross Validation Score: 0.7 --> 0.3\n",
    "- Accuracy Score On X_test Data 0.67 --> 0.71\n"
   ]
  },
  {
   "cell_type": "markdown",
   "metadata": {},
   "source": [
    "# The Confusion Matrix, ROC Curve + Precision/Recall/Threshold Curve"
   ]
  },
  {
   "cell_type": "code",
   "execution_count": 66,
   "metadata": {},
   "outputs": [],
   "source": [
    "# Confusion Matrix +  Plot A ROC Curve + Precision Recall Curve\n",
    "\n",
    "from sklearn.metrics import confusion_matrix\n",
    "\n",
    "log_reg_model = LogisticRegression(solver='lbfgs', multi_class='auto')\n",
    "log_reg_model.fit(X_train, y_train)\n",
    "predictions = log_reg_model.predict(X_test)"
   ]
  },
  {
   "cell_type": "code",
   "execution_count": 67,
   "metadata": {},
   "outputs": [
    {
     "data": {
      "text/plain": [
       "array([[23,  4],\n",
       "       [ 7, 23]], dtype=int64)"
      ]
     },
     "execution_count": 67,
     "metadata": {},
     "output_type": "execute_result"
    }
   ],
   "source": [
    "CM = confusion_matrix(y_test, predictions, labels=['HIGH SALARY', 'LOW SALARY'])\n",
    "CM"
   ]
  },
  {
   "cell_type": "code",
   "execution_count": 68,
   "metadata": {},
   "outputs": [
    {
     "data": {
      "text/plain": [
       "(23, 4, 7, 23)"
      ]
     },
     "execution_count": 68,
     "metadata": {},
     "output_type": "execute_result"
    }
   ],
   "source": [
    "tn, fp, fn, tp = confusion_matrix(y_test, predictions).ravel()\n",
    "(tn, fp, fn, tp)\n"
   ]
  },
  {
   "cell_type": "code",
   "execution_count": 69,
   "metadata": {},
   "outputs": [
    {
     "data": {
      "text/html": [
       "<div>\n",
       "<style scoped>\n",
       "    .dataframe tbody tr th:only-of-type {\n",
       "        vertical-align: middle;\n",
       "    }\n",
       "\n",
       "    .dataframe tbody tr th {\n",
       "        vertical-align: top;\n",
       "    }\n",
       "\n",
       "    .dataframe thead th {\n",
       "        text-align: right;\n",
       "    }\n",
       "</style>\n",
       "<table border=\"1\" class=\"dataframe\">\n",
       "  <thead>\n",
       "    <tr style=\"text-align: right;\">\n",
       "      <th></th>\n",
       "      <th>High_Salary_Class</th>\n",
       "      <th>Low_Salary_Class</th>\n",
       "    </tr>\n",
       "  </thead>\n",
       "  <tbody>\n",
       "    <tr>\n",
       "      <th>It Is A High Salary Job</th>\n",
       "      <td>23</td>\n",
       "      <td>4</td>\n",
       "    </tr>\n",
       "    <tr>\n",
       "      <th>It Is A Low Salary Job</th>\n",
       "      <td>7</td>\n",
       "      <td>23</td>\n",
       "    </tr>\n",
       "  </tbody>\n",
       "</table>\n",
       "</div>"
      ],
      "text/plain": [
       "                         High_Salary_Class  Low_Salary_Class\n",
       "It Is A High Salary Job                 23                 4\n",
       "It Is A Low Salary Job                   7                23"
      ]
     },
     "execution_count": 69,
     "metadata": {},
     "output_type": "execute_result"
    }
   ],
   "source": [
    "\n",
    "confusion_matrix_df = pd.DataFrame(CM, columns=['High_Salary_Class', 'Low_Salary_Class'], \n",
    "                                   index=['It Is A High Salary Job','It Is A Low Salary Job'])\n",
    "\n",
    "confusion_matrix_df"
   ]
  },
  {
   "cell_type": "code",
   "execution_count": 70,
   "metadata": {},
   "outputs": [
    {
     "data": {
      "text/plain": [
       "array(['HIGH SALARY', 'LOW SALARY'], dtype=object)"
      ]
     },
     "execution_count": 70,
     "metadata": {},
     "output_type": "execute_result"
    }
   ],
   "source": [
    "\n",
    "log_reg_model.classes_"
   ]
  },
  {
   "cell_type": "code",
   "execution_count": 71,
   "metadata": {},
   "outputs": [],
   "source": [
    "new_array = []\n",
    "\n",
    "for item in predictions:\n",
    "    if item == 'HIGH SALARY':\n",
    "        new_array.append(0)\n",
    "    else:\n",
    "        new_array.append(1)\n",
    "        \n",
    "new_array = np.array(new_array)"
   ]
  },
  {
   "cell_type": "code",
   "execution_count": 72,
   "metadata": {},
   "outputs": [
    {
     "data": {
      "text/plain": [
       "array([0, 1, 1, 0, 0, 1, 0, 0, 1, 1, 1, 1, 1, 0, 0, 0, 0, 0, 0, 1, 1, 0,\n",
       "       1, 0, 0, 0, 1, 1, 0, 1, 0, 0, 1, 0, 0, 1, 0, 0, 0, 1, 1, 1, 0, 1,\n",
       "       1, 1, 0, 0, 1, 1, 0, 0, 1, 1, 0, 0, 1])"
      ]
     },
     "execution_count": 72,
     "metadata": {},
     "output_type": "execute_result"
    }
   ],
   "source": [
    "new_array\n",
    "\n"
   ]
  },
  {
   "cell_type": "code",
   "execution_count": 73,
   "metadata": {},
   "outputs": [
    {
     "data": {
      "text/plain": [
       "array(['HIGH SALARY', 'LOW SALARY', 'LOW SALARY', 'HIGH SALARY',\n",
       "       'HIGH SALARY', 'LOW SALARY', 'HIGH SALARY', 'HIGH SALARY',\n",
       "       'LOW SALARY', 'LOW SALARY', 'LOW SALARY', 'LOW SALARY',\n",
       "       'LOW SALARY', 'HIGH SALARY', 'HIGH SALARY', 'HIGH SALARY',\n",
       "       'HIGH SALARY', 'HIGH SALARY', 'HIGH SALARY', 'LOW SALARY',\n",
       "       'LOW SALARY', 'HIGH SALARY', 'LOW SALARY', 'HIGH SALARY',\n",
       "       'HIGH SALARY', 'HIGH SALARY', 'LOW SALARY', 'LOW SALARY',\n",
       "       'HIGH SALARY', 'LOW SALARY', 'HIGH SALARY', 'HIGH SALARY',\n",
       "       'LOW SALARY', 'HIGH SALARY', 'HIGH SALARY', 'LOW SALARY',\n",
       "       'HIGH SALARY', 'HIGH SALARY', 'HIGH SALARY', 'LOW SALARY',\n",
       "       'LOW SALARY', 'LOW SALARY', 'HIGH SALARY', 'LOW SALARY',\n",
       "       'LOW SALARY', 'LOW SALARY', 'HIGH SALARY', 'HIGH SALARY',\n",
       "       'LOW SALARY', 'LOW SALARY', 'HIGH SALARY', 'HIGH SALARY',\n",
       "       'LOW SALARY', 'LOW SALARY', 'HIGH SALARY', 'HIGH SALARY',\n",
       "       'LOW SALARY'], dtype=object)"
      ]
     },
     "execution_count": 73,
     "metadata": {},
     "output_type": "execute_result"
    }
   ],
   "source": [
    "predictions"
   ]
  },
  {
   "cell_type": "code",
   "execution_count": 74,
   "metadata": {},
   "outputs": [
    {
     "data": {
      "text/plain": [
       "57"
      ]
     },
     "execution_count": 74,
     "metadata": {},
     "output_type": "execute_result"
    }
   ],
   "source": [
    "probabilities = log_reg_model.predict_proba(X_test)\n",
    "len(probabilities)\n"
   ]
  },
  {
   "cell_type": "code",
   "execution_count": 76,
   "metadata": {},
   "outputs": [
    {
     "name": "stdout",
     "output_type": "stream",
     "text": [
      "Collecting scikit-plot"
     ]
    },
    {
     "name": "stderr",
     "output_type": "stream",
     "text": [
      "WARNING: You are using pip version 20.3.3; however, version 21.0.1 is available.\n",
      "You should consider upgrading via the 'c:\\anaconda\\python.exe -m pip install --upgrade pip' command.\n"
     ]
    },
    {
     "name": "stdout",
     "output_type": "stream",
     "text": [
      "\n",
      "  Downloading scikit_plot-0.3.7-py3-none-any.whl (33 kB)\n",
      "Requirement already satisfied: joblib>=0.10 in c:\\anaconda\\lib\\site-packages (from scikit-plot) (0.17.0)\n",
      "Requirement already satisfied: scipy>=0.9 in c:\\anaconda\\lib\\site-packages (from scikit-plot) (1.5.2)\n",
      "Requirement already satisfied: matplotlib>=1.4.0 in c:\\anaconda\\lib\\site-packages (from scikit-plot) (3.3.2)\n",
      "Requirement already satisfied: scikit-learn>=0.18 in c:\\anaconda\\lib\\site-packages (from scikit-plot) (0.24.1)\n",
      "Requirement already satisfied: pillow>=6.2.0 in c:\\anaconda\\lib\\site-packages (from matplotlib>=1.4.0->scikit-plot) (8.0.1)\n",
      "Requirement already satisfied: numpy>=1.15 in c:\\anaconda\\lib\\site-packages (from matplotlib>=1.4.0->scikit-plot) (1.19.2)\n",
      "Requirement already satisfied: kiwisolver>=1.0.1 in c:\\anaconda\\lib\\site-packages (from matplotlib>=1.4.0->scikit-plot) (1.3.0)\n",
      "Requirement already satisfied: pyparsing!=2.0.4,!=2.1.2,!=2.1.6,>=2.0.3 in c:\\anaconda\\lib\\site-packages (from matplotlib>=1.4.0->scikit-plot) (2.4.7)\n",
      "Requirement already satisfied: certifi>=2020.06.20 in c:\\anaconda\\lib\\site-packages (from matplotlib>=1.4.0->scikit-plot) (2020.6.20)\n",
      "Requirement already satisfied: cycler>=0.10 in c:\\anaconda\\lib\\site-packages (from matplotlib>=1.4.0->scikit-plot) (0.10.0)\n",
      "Requirement already satisfied: python-dateutil>=2.1 in c:\\anaconda\\lib\\site-packages (from matplotlib>=1.4.0->scikit-plot) (2.8.1)\n",
      "Requirement already satisfied: six in c:\\anaconda\\lib\\site-packages (from cycler>=0.10->matplotlib>=1.4.0->scikit-plot) (1.15.0)\n",
      "Requirement already satisfied: threadpoolctl>=2.0.0 in c:\\anaconda\\lib\\site-packages (from scikit-learn>=0.18->scikit-plot) (2.1.0)\n",
      "Installing collected packages: scikit-plot\n",
      "Successfully installed scikit-plot-0.3.7\n"
     ]
    }
   ],
   "source": [
    "!pip install scikit-plot"
   ]
  },
  {
   "cell_type": "markdown",
   "metadata": {},
   "source": [
    "# Analysis ROC Curve"
   ]
  },
  {
   "cell_type": "code",
   "execution_count": 77,
   "metadata": {},
   "outputs": [
    {
     "data": {
      "image/png": "[encoded data removed]",
      "text/plain": [
       "<Figure size 2160x864 with 1 Axes>"
      ]
     },
     "metadata": {
      "needs_background": "light"
     },
     "output_type": "display_data"
    }
   ],
   "source": [
    "import scikitplot as skplt\n",
    "from matplotlib.colors import ListedColormap\n",
    "from sklearn.metrics import classification_report\n",
    "cmap = ListedColormap(sns.color_palette(\"husl\",3))\n",
    "\n",
    "skplt.metrics.plot_roc(y_test, probabilities, plot_micro=True, plot_macro=True, \n",
    "                       title_fontsize=20, text_fontsize=16, figsize=(30,12), cmap=cmap)\n",
    "plt.show()"
   ]
  },
  {
   "cell_type": "markdown",
   "metadata": {},
   "source": [
    "The ROC Curve (receiver operating characteristic curve) has been plotted for both class 0 (High Salary) and class 1 (Low Salary). Firstly we can see that our logistic regression model is outperforming the baseline, this means that as we increase the threshold to remove false positives, we will acquire less false negatives in relation to how many false positives we loose.\n",
    "\n",
    "The following two equations provide a trade off that we can carefully balance by manually adjusting the threshold:\n",
    "\n",
    "\n",
    "- True Positive Rate = True Positives / (True Positives + False Negatives)\n",
    "- False Positive Rate = False Positives / (False Positives + True Negatives)\n",
    "\n",
    "\n",
    "A true positive rate score of 1.0 would indicate that our classifier would never misidentify one class as another class. Therefore if we would like to optimize the number of true positives in comparison to false negatives, we might choose to adjust the threshold so that we have:\n",
    "\n",
    "- 0.8 True Positive Rate and 0.2 False Positive Rate.\n",
    "~Your boss would rather tell a client incorrectly that they would get a lower salary job than tell a client incorrectly that they would get a high salary job.\n",
    "\n",
    "True Positives = 'LOW SALARY'.\n",
    "True Negatives = 'HIGH SALARY'.\n",
    "False Positives = 'Predicted LOW SALARY but actually HIGH SALARY'.\n",
    "False Negatives = 'Predicted HIGH SALARY but actually LOW SALARY'.\n",
    "We can therefore opt in to get more False Positives whilst reducing the number of False Negatives. Therefore we will need to reduce the threshold for class 0 which will lead to the following:\n",
    "\n",
    "- More False Positives (A higher false positive rate).\n",
    "- Less False Negatives (A higher true positive rate)."
   ]
  },
  {
   "cell_type": "markdown",
   "metadata": {},
   "source": [
    "# Changing The Threshold\n",
    "A lower threshold will lead to less false negatives and more false positives. Therefore let's reduce the default threshold for class 0:"
   ]
  },
  {
   "cell_type": "code",
   "execution_count": 78,
   "metadata": {},
   "outputs": [],
   "source": [
    "Y_probs = pd.DataFrame(log_reg_model.predict_proba(X_test), columns = ['Class_0_pp', 'Class_1_pp'])\n"
   ]
  },
  {
   "cell_type": "code",
   "execution_count": 79,
   "metadata": {},
   "outputs": [],
   "source": [
    "Y_probs['pred_class_threshold'] = [1  if x >= 0.78 else 0 for x in Y_probs.Class_1_pp.values ]\n"
   ]
  },
  {
   "cell_type": "code",
   "execution_count": 80,
   "metadata": {},
   "outputs": [],
   "source": [
    "def binarizer(item):\n",
    "    if item == 'HIGH SALARY':\n",
    "        return 0\n",
    "    else:\n",
    "        return 1\n",
    "\n",
    "y_test = y_test.apply(binarizer)"
   ]
  },
  {
   "cell_type": "code",
   "execution_count": 81,
   "metadata": {},
   "outputs": [],
   "source": [
    "conmat = np.array(confusion_matrix(\n",
    "        y_test, Y_probs.pred_class_threshold))"
   ]
  },
  {
   "cell_type": "code",
   "execution_count": 82,
   "metadata": {},
   "outputs": [],
   "source": [
    "\n",
    "confusion_matrix_df_two = pd.DataFrame(conmat, columns=['High_Salary_Class', 'Low_Salary_Class'], \n",
    "                                   index=['It Is A High Salary Job','It Is A Low Salary Job'])"
   ]
  },
  {
   "cell_type": "code",
   "execution_count": 83,
   "metadata": {},
   "outputs": [
    {
     "data": {
      "text/html": [
       "<div>\n",
       "<style scoped>\n",
       "    .dataframe tbody tr th:only-of-type {\n",
       "        vertical-align: middle;\n",
       "    }\n",
       "\n",
       "    .dataframe tbody tr th {\n",
       "        vertical-align: top;\n",
       "    }\n",
       "\n",
       "    .dataframe thead th {\n",
       "        text-align: right;\n",
       "    }\n",
       "</style>\n",
       "<table border=\"1\" class=\"dataframe\">\n",
       "  <thead>\n",
       "    <tr style=\"text-align: right;\">\n",
       "      <th></th>\n",
       "      <th>High_Salary_Class</th>\n",
       "      <th>Low_Salary_Class</th>\n",
       "    </tr>\n",
       "  </thead>\n",
       "  <tbody>\n",
       "    <tr>\n",
       "      <th>It Is A High Salary Job</th>\n",
       "      <td>27</td>\n",
       "      <td>0</td>\n",
       "    </tr>\n",
       "    <tr>\n",
       "      <th>It Is A Low Salary Job</th>\n",
       "      <td>24</td>\n",
       "      <td>6</td>\n",
       "    </tr>\n",
       "  </tbody>\n",
       "</table>\n",
       "</div>"
      ],
      "text/plain": [
       "                         High_Salary_Class  Low_Salary_Class\n",
       "It Is A High Salary Job                 27                 0\n",
       "It Is A Low Salary Job                  24                 6"
      ]
     },
     "execution_count": 83,
     "metadata": {},
     "output_type": "execute_result"
    }
   ],
   "source": [
    "confusion_matrix_df_two\n"
   ]
  },
  {
   "cell_type": "markdown",
   "metadata": {},
   "source": [
    "# Precision/Recall/Threshold Curve"
   ]
  },
  {
   "cell_type": "code",
   "execution_count": 84,
   "metadata": {},
   "outputs": [
    {
     "data": {
      "image/png": "[encoded data removed]",
      "text/plain": [
       "<Figure size 2160x864 with 1 Axes>"
      ]
     },
     "metadata": {
      "needs_background": "light"
     },
     "output_type": "display_data"
    }
   ],
   "source": [
    "# For class 1, find the area under the curve\n",
    "precision, recall, threshold = precision_recall_curve(y_test, log_reg_model.predict_proba(X_test)[:,1])\n",
    "\n",
    "# Plot of a precision-recall curve for class 1 (benign)\n",
    "plt.figure(figsize=(30,12))\n",
    "plt.plot(recall, precision, label='Precision-recall curve', linewidth=4)\n",
    "plt.xlim([-0.05, 1.0])\n",
    "plt.ylim([-0.05, 1.05])\n",
    "plt.xlabel('Recall', fontsize=18)\n",
    "plt.ylabel('Precision', fontsize=18)\n",
    "plt.title('Precision-Recall curve', fontsize=18)\n",
    "plt.legend(loc=\"lower right\")\n",
    "plt.show()"
   ]
  },
  {
   "cell_type": "markdown",
   "metadata": {},
   "source": [
    "- Precision = True Positives / (True Positives + False Positives)\n",
    "A high precision means that there are more true positives in relation to the number of false positives.\n",
    "\n",
    "- Recall = True Positives / (True Positives + False Negatives)\n",
    "A high recall means that there are more true positives in relation to the number of false negatives.\n",
    "\n",
    "Therefore with a recall of 1.0, we will have no false negatives, which would give us a precision of ~0.6. This means the amount of true positives within the total observations would be 60%."
   ]
  },
  {
   "cell_type": "markdown",
   "metadata": {},
   "source": [
    "# Summary\n",
    "After scraping job listings from Indeed.com, cleaning and applying feature engineering (adding additional features) to the data we created a classification model that allows us to predict whether a new job listing will be either a low or high salary.\n",
    "\n",
    "Logistic regression was our most successful algorithim and had the highest generalizability (ability to make stable predictions to fresh/new data).\n",
    "\n",
    "The baseline to beat was 50%, we achieved a 75% accuracy score with Logistic Regression."
   ]
  },
  {
   "cell_type": "markdown",
   "metadata": {},
   "source": [
    "## Approach\n",
    "## Data Collection\n",
    "Using a custom built web scraper, we were able to scrape ~544 raw results from the following States within the US market:\n",
    "\n",
    "- New York\n",
    "- Chicago\n",
    "- San Francisco\n",
    "- Austin\n",
    "- Seattle\n",
    "- Los Angeles\n",
    "- Philadelphia\n",
    "- Atlanta\n",
    "- Dallas\n",
    "- Pittsburgh\n",
    "- Portland\n",
    "- Phoenix\n",
    "- Denver\n",
    "- Houston\n",
    "- Miami\n",
    "- Data Cleaning\n",
    "\n",
    "The data was cleaned by removing duplicates/any companies without ratings, salary information was extracted from every listing. Salaries under 15,000 were excluded as there were several observations which had $5000 that could have negatively influenced our model if these observations had been part of the training data.\n",
    "\n",
    "## Creating A Target Variable\n",
    "After extracting the salary information, we decided to change the problem which would normally be solved via regression (i.e. predict the salary price) into a binary classification problem.\n",
    "\n",
    "A binary classification problem is where we have two classes and we are attempting to predict whether a specific observation should be class 0 or class 1.\n",
    "\n",
    "In order to achieve this we created an additional feature:\n",
    "\n",
    "HIGH SALARY when the salary was larger than the salary mean.\n",
    "LOW SALARY when the salary was lower than the salary mean.\n",
    "## Creating Our Baseline Accuracy Score\n",
    "In binary classifcation we always take the largest class as our baseline.\n",
    "\n",
    "(266 / 531 ) * 100 = 50.09%\n",
    "\n",
    "Therefore if we were to just take our best guess, our baseline to beat is 50.09%.\n",
    "\n",
    "## Model Building \n",
    "Model 1 - Location\n",
    "Our first model only used the location features which included the State and City. We trialled several different models including:\n",
    "\n",
    "- KNeighbors\n",
    "- Logistic Regression\n",
    "- Decision Trees\n",
    "- SVC\n",
    "- Random Forests\n",
    "- Extra Trees\n",
    "## Model 2 - Locations + Dummifyed Job Titles\n",
    "\n",
    "For the second round of modelling we decided to create dummy variables based upon the job description for every listing. This means that the exact title is now included as a predictor feature for our models.\n",
    "\n",
    "Additionally we decided to only progress with logistic regression as it had the highest accuracy score from our first model.\n",
    "\n",
    "Accuracy Score can be defined as: True Positives, False Negatives / All Observations\n",
    "## Model 3 - (Features: Locations + TFID Vectorized Job Titles)\n",
    "\n",
    "As well as including the previous features, for the third model instead of simply dummifying the job titles we decided to applied natural language processing to the job titles. This means that all words were scaled in reference to how frequent or infrequent they appear throughout all of the job title data. Our third model yielded the highest cross validated score of 0.83.\n",
    "\n",
    "## Risks\n",
    "- Not all of the jobs have salary information so by making predictions about the class of a job, we currently are unable able to consider these listings. Therefore we run the risk of training our machine learning model on a select sample of jobs.\n",
    "Perhaps looking at only companies with ratings isn’t represenative and given more time it might be worthwhile running a separate model without ratings.\n",
    "- Certain listings contained salary information in the form (similar jobs have salaries between $50,000 - $70,000). This information might not be truly representative and could add skewness into the sampled data.\n",
    "- Despite the number of classes being low (which would generally yield a lower amount of error in comparison to having 3 - 4 classes) the classes for salary were created from the median but perhaps this is not the most accurate way to define a ‘high salary’ from a ‘low salary’. If we had more time, we could trial the using the 75% quartiles or using several standard deviations above and below the mean.\n",
    "##Limitations\n",
    "\n",
    "The current limitations within are model are the following:\n",
    "\n",
    "Only 15 US states were scraped, however it we wanted to make any inferences about the US job market or other states we would need to gather more data.\n",
    "The feature’s gathered could be improved with stemming (this involves combining words with a similar intent by converting words to their similar root word).\n",
    "The data was gathered within a 1 week window which might not be represensativie sample of the true population, therefore it would be worthwhile to scrape for several weeks/months and to see if the same states / locations would still yield a similar influence on our Logistic Regression model.\n",
    "## Results\n",
    "Logistic Regression proved to be our best model, with a cross validation score of 0.83 (via Grid Search).\n",
    "\n",
    "Furthermore the confusion matrix shows us that on test data we achieved:\n",
    "\n",
    "- True Positives = 'LOW SALARY'.\n",
    "- True Negatives = 'HIGH SALARY'.\n",
    "- False Positives = 'Predicted LOW SALARY but actually HIGH SALARY'.\n",
    "- False Negatives = 'Predicted HIGH SALARY but actually LOW SALARY'.\n",
    "Without manually adjusting the threshold of 0.5 (50% or larger the prediction will be class 1) we can see that our model has less false positives than false negatives.\n",
    "\n",
    "Adjusting the probability threshold to have 0 false negatives is possible however this comes with the trade off having a larger amount of false positives.\n",
    "\n",
    "## Next Steps\n",
    "The next steps include:\n",
    "\n",
    "- Testing grid search with different scoring methods (precision, recall).\n",
    "- Calculate the exact threshold required to reach 0 false negatives with the lowest number of false positives.\n",
    "- Testing ensemble methods:\n",
    "- Bagging with Logistic Regression (running multiple logistic regression models on slightly different bootstrapped sample data and then combining their results in the form of a majority vote).\n"
   ]
  },
  {
   "cell_type": "code",
   "execution_count": null,
   "metadata": {},
   "outputs": [],
   "source": []
  }
 ],
 "metadata": {
  "kernelspec": {
   "display_name": "Python 3",
   "language": "python",
   "name": "python3"
  },
  "language_info": {
   "codemirror_mode": {
    "name": "ipython",
    "version": 3
   },
   "file_extension": ".py",
   "mimetype": "text/x-python",
   "name": "python",
   "nbconvert_exporter": "python",
   "pygments_lexer": "ipython3",
   "version": "3.8.5"
  }
 },
 "nbformat": 4,
 "nbformat_minor": 4
}
